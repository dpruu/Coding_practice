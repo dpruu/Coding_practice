{
 "cells": [
  {
   "cell_type": "markdown",
   "metadata": {},
   "source": [
    "# 등산코스 정하기"
   ]
  },
  {
   "cell_type": "code",
   "execution_count": 38,
   "metadata": {},
   "outputs": [],
   "source": [
    "def solution(n, paths, gates, summits):\n",
    "\n",
    "    hiking_trail = {}\n",
    "    \n",
    "    for i, j, time in paths:\n",
    "        for start , end in ((i,j), (j,i)):\n",
    "            try:\n",
    "                hiking_trail[start].append((end,time))\n",
    "            except:\n",
    "                hiking_trail[start] = [(end,time)]\n",
    "    \n",
    "    intensity = [10000001] * (n+1)\n",
    "    \n",
    "    for gate in gates:\n",
    "        intensity[gate] = 0\n",
    "\n",
    "    peak = set(summits)        \n",
    "\n",
    "    while gates:\n",
    "        trail = set()\n",
    "        # now = gates.pop()\n",
    "        for now in gates:            \n",
    "            for nx, time in hiking_trail[now]:\n",
    "                max_time = max(time, intensity[now])\n",
    "                \n",
    "                if intensity[nx] > max_time:\n",
    "                    intensity[nx] = max_time\n",
    "                    \n",
    "                    if nx not in peak:\n",
    "                        trail.add(nx)    \n",
    "\n",
    "        gates = list(trail)\n",
    "    \n",
    "    return min([[peak, intensity[peak]] for peak in summits], key = lambda x : (x[1],x[0]))"
   ]
  },
  {
   "cell_type": "code",
   "execution_count": 39,
   "metadata": {},
   "outputs": [
    {
     "data": {
      "text/plain": [
       "[5, 6]"
      ]
     },
     "execution_count": 39,
     "metadata": {},
     "output_type": "execute_result"
    }
   ],
   "source": [
    "solution(6,[[1, 2, 3], [2, 3, 5], [2, 4, 2], [2, 5, 4], [3, 4, 4], [4, 5, 3], [4, 6, 1], [5, 6, 1]],\t[1, 3],\t[5])\n",
    "#[5, 3]\n",
    "solution(7,[[1, 4, 4], [1, 6, 1], [1, 7, 3], [2, 5, 2], [3, 7, 4], [5, 6, 6]],\t[1],\t[2, 3, 4]\t)\n",
    "#[3, 4]\n",
    "solution(7,[[1, 2, 5], [1, 4, 1], [2, 3, 1], [2, 6, 7], [4, 5, 1], [5, 6, 1], [6, 7, 1]]\t,[3, 7]\t,[1, 5]\t)\n",
    "#[5, 1]\n",
    "solution(5,[[1, 3, 10], [1, 4, 20], [2, 3, 4], [2, 4, 6], [3, 5, 20], [4, 5, 6]],\t[1, 2]\t,[5]\t)\n",
    "#[5, 6]"
   ]
  },
  {
   "cell_type": "code",
   "execution_count": 25,
   "metadata": {},
   "outputs": [],
   "source": [
    "def solution(n, paths, gates, summits):\n",
    "    field = {}\n",
    "    \n",
    "    for A, B, time in paths:\n",
    "        for x, y in ((A, B), (B, A)):\n",
    "            try:\n",
    "                field[x].append((y, time))\n",
    "            except:\n",
    "                field[x] = [(y, time)]\n",
    "    \n",
    "    intensity = [10000001] * (n + 1)\n",
    "    \n",
    "    for gate in gates:\n",
    "        intensity[gate] = 0\n",
    "    \n",
    "    check = set(summits)\n",
    "    stack = gates\n",
    "    \n",
    "    while stack:\n",
    "        target = set()\n",
    "        \n",
    "        while stack:\n",
    "            now = stack.pop()\n",
    "\n",
    "            for to, time in field[now]:\n",
    "                max_time = max(intensity[now], time)\n",
    "\n",
    "                if intensity[to] > max_time:\n",
    "                    intensity[to] = max_time\n",
    "                    \n",
    "                    if to not in check:\n",
    "                        target.add(to)\n",
    "\n",
    "        stack = list(target)\n",
    "        \n",
    "    return min([[summit, intensity[summit]] for summit in summits], key=lambda x: (x[1], x[0]))"
   ]
  },
  {
   "cell_type": "markdown",
   "metadata": {},
   "source": [
    "# 성격유형"
   ]
  },
  {
   "cell_type": "code",
   "execution_count": null,
   "metadata": {},
   "outputs": [],
   "source": [
    "def solution(survey, choices):\n",
    "    answer = ''\n",
    "\n",
    "    personality_test = {\"R\":0, \"T\":0, \"C\":0, \"F\":0, \"J\":0, \"M\":0, \"A\":0, \"N\":0}\n",
    "    \n",
    "    for i, choice in enumerate(choices):\n",
    "        if choice > 4:\n",
    "            personality_test[survey[i][1]] += choice - 4\n",
    "        elif choice < 4:\n",
    "            personality_test[survey[i][0]] += 4 - choice\n",
    "    \n",
    "    answer += \"T\" if personality_test[\"T\"] > personality_test[\"R\"] else \"R\"\n",
    "    answer += \"F\" if personality_test[\"F\"] > personality_test[\"C\"] else \"C\"\n",
    "    answer += \"M\" if personality_test[\"M\"] > personality_test[\"J\"] else \"J\"\n",
    "    answer += \"N\" if personality_test[\"N\"] > personality_test[\"A\"] else \"A\"\n",
    "    \n",
    "    return answer"
   ]
  },
  {
   "cell_type": "markdown",
   "metadata": {},
   "source": [
    "# 두 큐 합게 같게 만들기"
   ]
  },
  {
   "cell_type": "code",
   "execution_count": null,
   "metadata": {},
   "outputs": [],
   "source": [
    "from collections import deque as dq\n",
    "\n",
    "def solution(queue1, queue2):\n",
    "    answer = 0\n",
    "    dq1, dq2 = dq(queue1),  dq(queue2)\n",
    "    s1, s2 = sum(dq1), sum(dq2)\n",
    "    \n",
    "    target_sum , r = divmod(s1+s2, 2)\n",
    "    if r: \n",
    "        return -1\n",
    "    \n",
    "    while 1:\n",
    "        if len(dq1) == 0 or len(dq2) == 0:\n",
    "            answer = -1\n",
    "            break\n",
    "            \n",
    "        if s1 > target_sum :\n",
    "            temp = dq1.popleft()\n",
    "            s1 -= temp\n",
    "            \n",
    "        elif s1 < target_sum:\n",
    "            temp = dq2.popleft()\n",
    "            dq1.append(temp)\n",
    "            s1 += temp    \n",
    "        else:\n",
    "            break     \n",
    "            \n",
    "        answer += 1\n",
    "        \n",
    "    return answer"
   ]
  },
  {
   "cell_type": "markdown",
   "metadata": {},
   "source": [
    "# 코딩테스트 공부"
   ]
  },
  {
   "cell_type": "code",
   "execution_count": 13,
   "metadata": {},
   "outputs": [],
   "source": [
    "def bd_cal(val, axis):\n",
    "    if axis == \"alp\":\n",
    "        return min(maxalp, val)\n",
    "    else:\n",
    "        return min(maxcop, val)\n",
    "\n",
    "def dfs(alp, cop, problems):\n",
    "    if (maxalp <= alp and maxcop <= cop):\n",
    "        return 0\n",
    "    \n",
    "    if dp[alp][cop] != 300:\n",
    "        return dp[alp][cop]\n",
    "\n",
    "    dp[alp][cop] = 301\n",
    "    dp[alp][cop] = min(dp[alp][cop], 1+ dfs(bd_cal(alp+1,\"alp\"), cop, problems))\n",
    "    dp[alp][cop] = min(dp[alp][cop], 1+ dfs(alp, bd_cal(cop+1, \"cop\"), problems))\n",
    "\n",
    "    for problem in problems:\n",
    "        if problem[0] <= alp and problem[1] <= cop:\n",
    "            dp[alp][cop] = min(dp[alp][cop], problem[4] + dfs(bd_cal(alp + problem[2],\"alp\"), bd_cal(cop+problem[3],\"cop\"), problems))\n",
    "\n",
    "    return dp[alp][cop]\n",
    "\n",
    "\n",
    "def solution(alp, cop, problems):\n",
    "    global maxalp, maxcop, dp\n",
    "    maxalp, maxcop = max([i[0] for i in problems]),  max([i[1] for i in problems])\n",
    "    dp = [[300 for _ in range(maxcop+1)] for _ in range(maxalp+1)]\n",
    "    # print(dp)    \n",
    "    alp = maxalp if alp >= maxalp else alp\n",
    "    cop = maxcop if cop >= maxcop else cop\n",
    "    \n",
    "    return dfs(alp, cop, problems)"
   ]
  },
  {
   "cell_type": "code",
   "execution_count": null,
   "metadata": {},
   "outputs": [],
   "source": [
    "solution(10,\t10,\t[[10,15,2,1,2],[20,20,3,3,4]])\t\n",
    "#15\n",
    "print(dp)"
   ]
  },
  {
   "cell_type": "code",
   "execution_count": null,
   "metadata": {},
   "outputs": [],
   "source": [
    "solution(0,\t0,\t[[0,0,2,1,2],[4,5,3,1,2],[4,11,4,0,2],[10,4,0,4,2]])\t\n",
    "#13\n",
    "print(dp)"
   ]
  },
  {
   "cell_type": "code",
   "execution_count": 17,
   "metadata": {},
   "outputs": [],
   "source": [
    "def rotate(rc, cnt):\n",
    "    ii = (row+col -2)*2\n",
    "    N = cnt%ii\n",
    "    if N < ii - N:\n",
    "    # 정방향\n",
    "        for _ in range(N):\n",
    "            temp = rc[0][0]\n",
    "            for i in range(0,row-1):\n",
    "                rc[i][0] = rc[i+1][0]\n",
    "\n",
    "            for i in range(0, col-1):\n",
    "                rc[row-1][i] = rc[row-1][i+1]\n",
    "\n",
    "            for i in range(row-1,0,-1):\n",
    "                rc[i][col-1] = rc[i-1][col-1]\n",
    "\n",
    "            for i in range(col-1,0,-1):\n",
    "                rc[0][i] = rc[0][i-1]\n",
    "            rc[0][1] = temp\n",
    "    else:\n",
    "        # 역방향\n",
    "        for _ in range(ii-N):\n",
    "            temp = rc[0][0]\n",
    "            for i in range(0,col-1):\n",
    "                rc[0][i] = rc[0][i+1]\n",
    "\n",
    "            for i in range(0,row-1):\n",
    "                rc[i][col-1] = rc[i+1][col-1]\n",
    "            ######################################\n",
    "            for i in range(col-1,0,-1):\n",
    "                rc[row-1][i] = rc[row-1][i-1]\n",
    "\n",
    "            for i in range(row-1,0,-1):\n",
    "                rc[i][0] = rc[i-1][0]\n",
    "            rc[1][0] = temp\n",
    "\n",
    "    return rc\n",
    "\n",
    "def shift(rc, cnt):\n",
    "    N = cnt % row\n",
    "    # 정방향\n",
    "    if N < row - N:\n",
    "        for _ in range(N):\n",
    "            sh_temp = rc[-1]\n",
    "            for i in range(row-1,0,-1):\n",
    "                rc[i] = rc[i-1]\n",
    "            rc[0] = sh_temp\n",
    "    # 역방향\n",
    "    else:\n",
    "        for _ in range(row - N):\n",
    "            sh_temp = rc[0]\n",
    "            for i in range(row-1):\n",
    "                rc[i] = rc[i+1]\n",
    "            rc[-1] = sh_temp\n",
    "\n",
    "    return rc\n",
    "\n",
    "def op_cal(operations):\n",
    "    cnt = 0\n",
    "    test_list = []\n",
    "    compare_pa = operations[0]\n",
    "    for op in operations:\n",
    "        if compare_pa != op:\n",
    "            test_list.append((cnt, compare_pa))\n",
    "            compare_pa = op\n",
    "            cnt = 1\n",
    "        else:\n",
    "            cnt +=1\n",
    "    test_list.append((cnt, compare_pa))    \n",
    "\n",
    "    return test_list\n",
    "\n",
    "def solution(rc, operations):\n",
    "    global row, col\n",
    "    row, col = len(rc), len(rc[0])\n",
    "\n",
    "    operations = op_cal(operations)\n",
    "\n",
    "    for cnt, op in operations:\n",
    "        if op == \"Rotate\":\n",
    "            rc = rotate(rc,cnt)\n",
    "        else:\n",
    "            rc = shift(rc,cnt)\n",
    "\n",
    "    return rc"
   ]
  },
  {
   "cell_type": "code",
   "execution_count": 18,
   "metadata": {},
   "outputs": [
    {
     "data": {
      "text/plain": [
       "[[8, 9, 6], [4, 1, 2], [7, 5, 3]]"
      ]
     },
     "execution_count": 18,
     "metadata": {},
     "output_type": "execute_result"
    }
   ],
   "source": [
    "\n",
    "solution([[1, 2, 3], [4, 5, 6], [7, 8, 9]],\t[\"Rotate\", \"ShiftRow\"]\t)\n",
    "# [[8, 9, 6], [4, 1, 2], [7, 5, 3]]\n",
    "\n"
   ]
  },
  {
   "cell_type": "code",
   "execution_count": 19,
   "metadata": {},
   "outputs": [
    {
     "data": {
      "text/plain": [
       "[[8, 3, 3], [4, 9, 7], [3, 8, 6]]"
      ]
     },
     "execution_count": 19,
     "metadata": {},
     "output_type": "execute_result"
    }
   ],
   "source": [
    "solution([[8, 6, 3], [3, 3, 7], [8, 4, 9]],\t[\"Rotate\", \"ShiftRow\", \"ShiftRow\"]\t)\n",
    "# [[8, 3, 3], [4, 9, 7], [3, 8, 6]]\n"
   ]
  },
  {
   "cell_type": "code",
   "execution_count": 20,
   "metadata": {},
   "outputs": [
    {
     "data": {
      "text/plain": [
       "[[1, 6, 7, 8], [5, 9, 10, 4], [2, 3, 12, 11]]"
      ]
     },
     "execution_count": 20,
     "metadata": {},
     "output_type": "execute_result"
    }
   ],
   "source": [
    "solution([[1, 2, 3, 4], [5, 6, 7, 8], [9, 10, 11, 12]],\t[\"ShiftRow\", \"Rotate\", \"ShiftRow\", \"Rotate\"]\t)\n",
    "# [[1, 6, 7 ,8], [5, 9, 10, 4], [2, 3, 12, 11]]"
   ]
  },
  {
   "cell_type": "code",
   "execution_count": 21,
   "metadata": {},
   "outputs": [
    {
     "data": {
      "text/plain": [
       "[[1, 2], [3, 4]]"
      ]
     },
     "execution_count": 21,
     "metadata": {},
     "output_type": "execute_result"
    }
   ],
   "source": [
    "solution([[1, 2], [ 3, 4]],\t[\"ShiftRow\", \"Rotate\", \"ShiftRow\", \"Rotate\"]\t)"
   ]
  },
  {
   "cell_type": "code",
   "execution_count": 4,
   "metadata": {},
   "outputs": [],
   "source": [
    "\n",
    "from collections import deque\n",
    "\n",
    "def solution(rectangle, characterX, characterY, itemX, itemY):\n",
    "    answer = 0\n",
    "    map = [[0] * 101 for i in range(101)]\n",
    "\n",
    "    cX, cY = 2 * characterX, 2 * characterY\n",
    "    iX ,iY = 2 * itemX, 2 * itemY\n",
    "\n",
    "    direction = [[1, 0], [0, 1], [-1, 0], [0, -1]]\n",
    "    visited = [[0] * 101 for i in range(101)]\n",
    "    visited[cX][cY] = 1\n",
    "\n",
    "    dq = deque([(cX, cY)])\n",
    "    \n",
    "    for x1, y1, x2, y2 in rectangle:\n",
    "        for i in range(x1*2, (x2*2)+1):\n",
    "            for j in range(y1*2, (y2*2)+1):\n",
    "                map[i][j] = 1\n",
    "    \n",
    "    for x1, y1, x2, y2 in rectangle:\n",
    "        for i in range((x1*2)+1, x2*2):\n",
    "            for j in range((y1*2)+1, y2*2):\n",
    "                map[i][j] = 0\n",
    "\n",
    "    while dq:\n",
    "        x,y = dq.popleft()\n",
    "        if (x,y) == (iX, iY):\n",
    "            answer = (map[x][y] -1) //2\n",
    "            break\n",
    "\n",
    "        for x_dir, y_dir in direction:\n",
    "            next_x, next_y = x + x_dir, y + y_dir\n",
    "            if (0 <= next_x < 101) and (0 <= next_y <= 101) and (map[next_x][next_y] != 0) and (visited[next_x][next_y] == 0):\n",
    "                    map[next_x][next_y] = map[x][y] + 1\n",
    "                    visited[next_x][next_y] = 1\n",
    "                    dq.append((next_x, next_y))\n",
    "\n",
    "    return answer\n"
   ]
  },
  {
   "cell_type": "code",
   "execution_count": 5,
   "metadata": {},
   "outputs": [
    {
     "data": {
      "text/plain": [
       "17"
      ]
     },
     "execution_count": 5,
     "metadata": {},
     "output_type": "execute_result"
    }
   ],
   "source": [
    "solution([[1,1,7,4],[3,2,5,5],[4,3,6,9],[2,6,8,8]]\t,1,\t3\t,7\t,8)\n",
    "# 17"
   ]
  },
  {
   "cell_type": "code",
   "execution_count": 6,
   "metadata": {},
   "outputs": [
    {
     "data": {
      "text/plain": [
       "11"
      ]
     },
     "execution_count": 6,
     "metadata": {},
     "output_type": "execute_result"
    }
   ],
   "source": [
    "solution([[1,1,8,4],[2,2,4,9],[3,6,9,8],[6,3,7,7]]\t,9\t,7,\t6,\t1)\n",
    "#\t11"
   ]
  },
  {
   "cell_type": "code",
   "execution_count": 7,
   "metadata": {},
   "outputs": [
    {
     "data": {
      "text/plain": [
       "9"
      ]
     },
     "execution_count": 7,
     "metadata": {},
     "output_type": "execute_result"
    }
   ],
   "source": [
    "solution([[1,1,5,7]]\t,1,\t1,\t4\t,7\t)\n",
    "9"
   ]
  },
  {
   "cell_type": "code",
   "execution_count": 8,
   "metadata": {},
   "outputs": [
    {
     "data": {
      "text/plain": [
       "15"
      ]
     },
     "execution_count": 8,
     "metadata": {},
     "output_type": "execute_result"
    }
   ],
   "source": [
    "solution([[2,1,7,5],[6,4,10,10]]\t,3,\t1\t,7\t,10)\t\n",
    "15"
   ]
  },
  {
   "cell_type": "code",
   "execution_count": 9,
   "metadata": {},
   "outputs": [
    {
     "data": {
      "text/plain": [
       "10"
      ]
     },
     "execution_count": 9,
     "metadata": {},
     "output_type": "execute_result"
    }
   ],
   "source": [
    "solution([[2,2,5,5],[1,3,6,4],[3,1,4,6]],\t1,\t4,\t6,\t3)\t\n",
    "#10"
   ]
  },
  {
   "cell_type": "code",
   "execution_count": 7,
   "metadata": {},
   "outputs": [],
   "source": [
    "def dfs(sheep, wolf, info, edges):\n",
    "    if sheep > wolf: answer.append(sheep)\n",
    "    else: return\n",
    "\n",
    "    for i in range(len(edges)):\n",
    "        pa, ch = edges[i][0], edges[i][1]\n",
    "        is_wolf = info[ch]\n",
    "        if visited[pa] and not visited[ch]:\n",
    "            visited[ch] = 1\n",
    "            dfs(sheep + (is_wolf==0), wolf + (is_wolf==1), info, edges)\n",
    "            visited[ch] = 0\n",
    "\n",
    "def solution(info, edges):\n",
    "    global answer, visited\n",
    "    answer = []\n",
    "    visited = [0] * len(info)\n",
    "    visited[0] = 1\n",
    "\n",
    "    dfs(1,0, info, edges)\n",
    "\n",
    "    return max(answer)"
   ]
  },
  {
   "cell_type": "code",
   "execution_count": 8,
   "metadata": {},
   "outputs": [
    {
     "data": {
      "text/plain": [
       "5"
      ]
     },
     "execution_count": 8,
     "metadata": {},
     "output_type": "execute_result"
    }
   ],
   "source": [
    "solution([0,0,1,1,1,0,1,0,1,0,1,1],\t[[0,1],[1,2],[1,4],[0,8],[8,7],[9,10],[9,11],[4,3],[6,5],[4,6],[8,9]])\n",
    "#\t5\n"
   ]
  },
  {
   "cell_type": "code",
   "execution_count": 9,
   "metadata": {},
   "outputs": [
    {
     "data": {
      "text/plain": [
       "5"
      ]
     },
     "execution_count": 9,
     "metadata": {},
     "output_type": "execute_result"
    }
   ],
   "source": [
    "solution([0,1,0,1,1,0,1,0,0,1,0]\t,[[0,1],[0,2],[1,3],[1,4],[2,5],[2,6],[3,7],[4,8],[6,9],[9,10]])\t\n",
    "#5"
   ]
  },
  {
   "cell_type": "code",
   "execution_count": 83,
   "metadata": {},
   "outputs": [],
   "source": [
    "from tracemalloc import start\n",
    "\n",
    "\n",
    "def solution(gems):\n",
    "    answer = []\n",
    "    \n",
    "    shortest = len(gems)+1\n",
    "    gem_type = len(set(gems))\n",
    "    gem_list = {}\n",
    "    \n",
    "    start_p, end_p = 0, 0\n",
    "    \n",
    "    while end_p < len(gems):\n",
    "        if gems[end_p] not in gem_list:\n",
    "            gem_list[gems[end_p]] = 1\n",
    "        else:\n",
    "            gem_list[gems[end_p]] += 1\n",
    "        end_p += 1\n",
    "        # print(gem_type, len(gem_list), gem_list, \"start_pointer\", start_p, \"end_pointer\", end_p)\n",
    "\n",
    "        if len(gem_list) == gem_type:\n",
    "            while start_p < end_p:\n",
    "                print(\"pointer => \",start_p, end_p)\n",
    "                # print(gem_list)\n",
    "                print(shortest)\n",
    "                if gem_list[gems[start_p]] > 1:\n",
    "                    gem_list[gems[start_p]] -= 1\n",
    "                    start_p += 1\n",
    "                elif shortest > end_p - start_p:\n",
    "                    shortest = end_p - start_p\n",
    "                    answer = [start_p+1, end_p+1]\n",
    "                    break\n",
    "                else:\n",
    "                    break\n",
    "        # end_p += 1                \n",
    "\n",
    "    return answer"
   ]
  },
  {
   "cell_type": "code",
   "execution_count": 84,
   "metadata": {},
   "outputs": [
    {
     "name": "stdout",
     "output_type": "stream",
     "text": [
      "pointer =>  0 7\n",
      "9\n",
      "pointer =>  1 7\n",
      "9\n",
      "pointer =>  2 7\n",
      "9\n",
      "pointer =>  2 8\n",
      "5\n"
     ]
    },
    {
     "data": {
      "text/plain": [
       "[3, 8]"
      ]
     },
     "execution_count": 84,
     "metadata": {},
     "output_type": "execute_result"
    }
   ],
   "source": [
    "solution([\"DIA\", \"RUBY\", \"RUBY\", \"DIA\", \"DIA\", \"EMERALD\", \"SAPPHIRE\", \"DIA\"]\t)\n",
    "#[3, 7]"
   ]
  },
  {
   "cell_type": "code",
   "execution_count": 80,
   "metadata": {},
   "outputs": [
    {
     "name": "stdout",
     "output_type": "stream",
     "text": [
      "6\n",
      "3\n",
      "3\n",
      "3\n"
     ]
    },
    {
     "data": {
      "text/plain": [
       "[1, 4]"
      ]
     },
     "execution_count": 80,
     "metadata": {},
     "output_type": "execute_result"
    }
   ],
   "source": [
    "solution([\"AA\", \"AB\", \"AC\", \"AA\", \"AC\"]\t)\n",
    "#[1, 3]"
   ]
  },
  {
   "cell_type": "code",
   "execution_count": 81,
   "metadata": {},
   "outputs": [
    {
     "name": "stdout",
     "output_type": "stream",
     "text": [
      "4\n",
      "1\n",
      "1\n",
      "1\n",
      "1\n"
     ]
    },
    {
     "data": {
      "text/plain": [
       "[1, 2]"
      ]
     },
     "execution_count": 81,
     "metadata": {},
     "output_type": "execute_result"
    }
   ],
   "source": [
    "\n",
    "solution([\"XYZ\", \"XYZ\", \"XYZ\"]\t)\n",
    "#[1, 1]"
   ]
  },
  {
   "cell_type": "code",
   "execution_count": 82,
   "metadata": {},
   "outputs": [
    {
     "name": "stdout",
     "output_type": "stream",
     "text": [
      "6\n"
     ]
    },
    {
     "data": {
      "text/plain": [
       "[1, 6]"
      ]
     },
     "execution_count": 82,
     "metadata": {},
     "output_type": "execute_result"
    }
   ],
   "source": [
    "\n",
    "solution([\"ZZZ\", \"YYY\", \"NNNN\", \"YYY\", \"BBB\"])\n",
    "#[1,5]"
   ]
  },
  {
   "cell_type": "markdown",
   "metadata": {},
   "source": [
    "# 불량 사용자"
   ]
  },
  {
   "cell_type": "code",
   "execution_count": 26,
   "metadata": {},
   "outputs": [],
   "source": [
    "from itertools import permutations\n",
    "\n",
    "def check_banned(user, banned):\n",
    "    if len(user) != len(banned):\n",
    "        return False\n",
    "    else:\n",
    "        for i in range(len(banned)):\n",
    "            if banned[i] == '*':\n",
    "                continue\n",
    "            elif banned[i] != user[i]:\n",
    "                return False\n",
    "\n",
    "        return True\n",
    "\n",
    "def solution(user_id, banned_id):\n",
    "    answer = []\n",
    "    banned_user_num = len(banned_id)\n",
    "\n",
    "    for user_list in permutations(user_id, banned_user_num):\n",
    "        cnt = 0\n",
    "        for u_id,b_id in zip(user_list, banned_id):\n",
    "            cnt += check_banned(u_id, b_id)\n",
    "        if cnt == banned_user_num:\n",
    "            if set(user_list) not in answer:\n",
    "                answer.append(set(user_list))\n",
    "\n",
    "    return len(answer)"
   ]
  },
  {
   "cell_type": "code",
   "execution_count": 27,
   "metadata": {},
   "outputs": [
    {
     "data": {
      "text/plain": [
       "2"
      ]
     },
     "execution_count": 27,
     "metadata": {},
     "output_type": "execute_result"
    }
   ],
   "source": [
    "solution([\"frodo\", \"fradi\", \"crodo\", \"abc123\", \"frodoc\"],\t[\"fr*d*\", \"abc1**\"])\n",
    "#\t2"
   ]
  },
  {
   "cell_type": "code",
   "execution_count": 28,
   "metadata": {},
   "outputs": [
    {
     "data": {
      "text/plain": [
       "2"
      ]
     },
     "execution_count": 28,
     "metadata": {},
     "output_type": "execute_result"
    }
   ],
   "source": [
    "solution([\"frodo\", \"fradi\", \"crodo\", \"abc123\", \"frodoc\"],\t[\"*rodo\", \"*rodo\", \"******\"]\t)\n",
    "#2\n"
   ]
  },
  {
   "cell_type": "code",
   "execution_count": 29,
   "metadata": {},
   "outputs": [
    {
     "data": {
      "text/plain": [
       "3"
      ]
     },
     "execution_count": 29,
     "metadata": {},
     "output_type": "execute_result"
    }
   ],
   "source": [
    "\n",
    "solution([\"frodo\", \"fradi\", \"crodo\", \"abc123\", \"frodoc\"],\t[\"fr*d*\", \"*rodo\", \"******\", \"******\"]\t)\n",
    "#3"
   ]
  },
  {
   "cell_type": "markdown",
   "metadata": {},
   "source": [
    "# 경주로 건설"
   ]
  },
  {
   "cell_type": "code",
   "execution_count": 101,
   "metadata": {},
   "outputs": [],
   "source": [
    "from cmath import inf\n",
    "from collections import deque\n",
    "def solution(board):\n",
    "    N = len(board)\n",
    "    Limit_ = inf\n",
    "    answer = Limit_\n",
    "    d_dir = [0, 1, 2, 3] # right, down, left, up\n",
    "    d_y = [0, 1, 0, -1]\n",
    "    d_x = [1, 0 ,-1, 0]\n",
    "    map = [[[Limit_ for _ in range(N)] for _ in range(N)] for _ in range(4)]\n",
    "    dq = deque()\n",
    "    dq.append([0, 0, 0, 0])\n",
    "    dq.append([0, 0, 0, 1])\n",
    "    while dq:\n",
    "        y, x, cost, direction = dq.popleft() \n",
    "        for i in range(4):\n",
    "            ny = y + d_y[i]\n",
    "            nx = x + d_x[i]\n",
    "            if 0 <= nx < N and 0 <= ny < N and board[ny][nx] == 0:\n",
    "                n_cost = cost + 1\n",
    "                if direction != d_dir[i]:\n",
    "                    n_cost += 5\n",
    "                if map[d_dir[i]][ny][nx] > n_cost:\n",
    "                    map[d_dir[i]][ny][nx] = n_cost\n",
    "                    if nx == N-1 and ny == N-1:\n",
    "                        continue\n",
    "                    dq.append([ny, nx, n_cost, d_dir[i]])\n",
    "    for i in range(4):\n",
    "        answer = min(answer, map[i][N-1][N-1])\n",
    "    print(map, sep = '\\n')\n",
    "    \n",
    "\n",
    "    return (answer * 100)"
   ]
  },
  {
   "cell_type": "code",
   "execution_count": 102,
   "metadata": {},
   "outputs": [
    {
     "name": "stdout",
     "output_type": "stream",
     "text": [
      "[[[inf, 1, 2], [inf, 7, 8], [inf, 8, 9]], [[inf, inf, inf], [1, 7, 8], [2, 8, 9]], [[7, 8, inf], [13, 14, inf], [14, inf, inf]], [[7, 13, 14], [8, 14, inf], [inf, inf, inf]]]\n"
     ]
    },
    {
     "data": {
      "text/plain": [
       "900"
      ]
     },
     "execution_count": 102,
     "metadata": {},
     "output_type": "execute_result"
    }
   ],
   "source": [
    "solution([[0,0,0],[0,0,0],[0,0,0]])\n",
    "#900\n"
   ]
  },
  {
   "cell_type": "code",
   "execution_count": 103,
   "metadata": {},
   "outputs": [
    {
     "name": "stdout",
     "output_type": "stream",
     "text": [
      "[[[inf, 1, 2, 3, 4, 5, 6, inf], [inf, 7, 8, 9, 10, 11, 12, 13], [inf, 8, 9, 10, 11, inf, inf, 19], [inf, 9, 10, 11, inf, inf, 26, 20], [inf, 10, 11, inf, inf, 28, 27, inf], [inf, 11, inf, inf, 40, 34, inf, inf], [inf, inf, inf, 42, 41, inf, inf, 49], [inf, inf, 44, 43, 42, 36, 37, 38]], [[inf, inf, inf, inf, inf, inf, inf, inf], [1, 7, 8, 9, 10, 11, 12, inf], [2, 8, 9, 10, 11, inf, 13, 19], [3, 9, 10, 11, inf, inf, 14, 20], [4, 10, 11, inf, inf, 26, 15, inf], [5, 11, inf, inf, 28, 27, inf, inf], [6, inf, inf, 40, 29, inf, inf, 61], [inf, inf, 42, 41, 30, inf, 49, 55]], [[7, 8, 9, 10, 11, 12, inf, inf], [13, 14, 15, 16, 17, 18, 19, inf], [14, 15, 16, 17, inf, inf, 25, inf], [15, 16, 17, inf, inf, 20, 26, inf], [16, 17, inf, inf, 22, 21, inf, inf], [17, inf, inf, 34, 33, inf, inf, inf], [inf, inf, 36, 35, inf, inf, 55, inf], [inf, 38, 37, 36, 42, 43, inf, inf]], [[7, 13, 14, 15, 16, 17, 18, inf], [8, 14, 15, 16, 17, inf, 19, 25], [9, 15, 16, 17, inf, inf, 20, 26], [10, 16, 17, inf, inf, 27, 21, inf], [11, 17, inf, inf, 34, 33, inf, inf], [12, inf, inf, 41, 35, inf, inf, 55], [inf, inf, 43, 42, 36, inf, 43, inf], [inf, inf, inf, inf, inf, inf, inf, inf]]]\n"
     ]
    },
    {
     "data": {
      "text/plain": [
       "3800"
      ]
     },
     "execution_count": 103,
     "metadata": {},
     "output_type": "execute_result"
    }
   ],
   "source": [
    "\n",
    "solution([[0,0,0,0,0,0,0,1],[0,0,0,0,0,0,0,0],[0,0,0,0,0,1,0,0],[0,0,0,0,1,0,0,0],[0,0,0,1,0,0,0,1],[0,0,1,0,0,0,1,0],[0,1,0,0,0,1,0,0],[1,0,0,0,0,0,0,0]]\t)\n",
    "#3800\n"
   ]
  },
  {
   "cell_type": "code",
   "execution_count": null,
   "metadata": {},
   "outputs": [],
   "source": []
  },
  {
   "cell_type": "markdown",
   "metadata": {},
   "source": [
    "# 광고 삽입"
   ]
  },
  {
   "cell_type": "code",
   "execution_count": 162,
   "metadata": {},
   "outputs": [],
   "source": [
    "def str_to_int(str_time):\n",
    "    h, m, s = str_time.split(\":\")\n",
    "    int_time = int(s) + 60*int(m) + 3600*int(h)\n",
    "    return int_time\n",
    "\n",
    "def int_to_str(int_time):\n",
    "    h = int_time // 3600\n",
    "    h = \"0\" + str(h) if h < 10 else str(h)\n",
    "    int_time = int(int_time) % 3600\n",
    "\n",
    "    m = int_time // 60\n",
    "    m = \"0\" + str(m) if m < 10 else str(m)\n",
    "    int_time = int(int_time) % 60\n",
    "\n",
    "    s = int_time\n",
    "    s = \"0\" + str(s) if s < 10 else str(s)\n",
    "    str_time = h + \":\" + m+ \":\" + s\n",
    "\n",
    "    return str_time\n",
    "\n",
    "\n",
    "def solution(play_time, adv_time, logs):\n",
    "    answer = ''\n",
    "    play_time, adv_time = str_to_int(play_time), str_to_int(adv_time)\n",
    "    if adv_time >= play_time:\n",
    "        return int_to_str(0)\n",
    "\n",
    "    time_table = [0 for _ in range(play_time+1)]\n",
    "\n",
    "    for log in logs:\n",
    "        start, end = log.split(\"-\")\n",
    "        start, end = str_to_int(start), str_to_int(end)\n",
    "        time_table[start] += 1\n",
    "        time_table[end] -= 1\n",
    "\n",
    "    for i in range(1, len(time_table)):\n",
    "        time_table[i] = time_table[i] + time_table[i-1]\n",
    "\n",
    "    for i in range(1, len(time_table)):\n",
    "        time_table[i] = time_table[i] + time_table[i-1]\n",
    "\n",
    "    max_view = 0\n",
    "    max_time = 0\n",
    "\n",
    "    for i in range(adv_time, play_time):\n",
    "        if max_view < time_table[i] - time_table[i-adv_time]:\n",
    "            max_view = time_table[i] - time_table[i-adv_time]\n",
    "            max_time = i - adv_time +1\n",
    "        # print(max_view, max_time)\n",
    "\n",
    "    return int_to_str(max_time)"
   ]
  },
  {
   "cell_type": "code",
   "execution_count": 163,
   "metadata": {},
   "outputs": [
    {
     "data": {
      "text/plain": [
       "'01:30:59'"
      ]
     },
     "execution_count": 163,
     "metadata": {},
     "output_type": "execute_result"
    }
   ],
   "source": [
    "solution(\"02:03:55\"\t,\"00:14:15\",\t[\"01:20:15-01:45:14\", \"00:40:31-01:00:00\", \"00:25:50-00:48:29\", \"01:30:59-01:53:29\", \"01:37:44-02:02:30\"])\t\n",
    "#\"01:30:59\"\n"
   ]
  },
  {
   "cell_type": "code",
   "execution_count": 164,
   "metadata": {},
   "outputs": [
    {
     "data": {
      "text/plain": [
       "'01:00:00'"
      ]
     },
     "execution_count": 164,
     "metadata": {},
     "output_type": "execute_result"
    }
   ],
   "source": [
    "solution(\"99:59:59\"\t,\"25:00:00\"\t,[\"69:59:59-89:59:59\", \"01:00:00-21:00:00\", \"79:59:59-99:59:59\", \"11:00:00-31:00:00\"])\t\n",
    "#\"01:00:00\"\n"
   ]
  },
  {
   "cell_type": "code",
   "execution_count": 165,
   "metadata": {},
   "outputs": [
    {
     "data": {
      "text/plain": [
       "'00:00:00'"
      ]
     },
     "execution_count": 165,
     "metadata": {},
     "output_type": "execute_result"
    }
   ],
   "source": [
    "solution(\"50:00:00\",\t\"50:00:00\",\t[\"15:36:51-38:21:49\", \"10:14:18-15:36:51\", \"38:21:49-42:51:45\"])\n",
    "#\t\"00:00:00\""
   ]
  },
  {
   "cell_type": "code",
   "execution_count": null,
   "metadata": {},
   "outputs": [],
   "source": []
  },
  {
   "cell_type": "code",
   "execution_count": 14,
   "metadata": {},
   "outputs": [],
   "source": [
    "# 숫자 블록\n",
    "from math import sqrt\n",
    "\n",
    "def solution(begin, end):\n",
    "    answer = []\n",
    "\n",
    "    for i in range(begin, end+1):\n",
    "        if i == 1:\n",
    "            answer.append(0)\n",
    "        else:\n",
    "            chk = 1\n",
    "            sq_i = int(sqrt(i))\n",
    "            for j in range(2,sq_i+1):\n",
    "                div, r = divmod(i,j)\n",
    "                if div > 10000000:\n",
    "                    continue\n",
    "                if (r == 0):\n",
    "                    answer.append(div)\n",
    "                    chk = 0\n",
    "                    break\n",
    "\n",
    "            if chk:\n",
    "                answer.append(1)\n",
    "                chk = 1\n",
    "            \n",
    "    \n",
    "    return answer"
   ]
  },
  {
   "cell_type": "code",
   "execution_count": 15,
   "metadata": {},
   "outputs": [
    {
     "data": {
      "text/plain": [
       "[0, 1, 1, 2, 1, 3, 1, 4, 3, 5]"
      ]
     },
     "execution_count": 15,
     "metadata": {},
     "output_type": "execute_result"
    }
   ],
   "source": [
    "solution(1,10)"
   ]
  },
  {
   "cell_type": "code",
   "execution_count": 60,
   "metadata": {},
   "outputs": [],
   "source": [
    "def solution(board, skill):\n",
    "    answer = 0\n",
    "\n",
    "    for type, y1, x1, y2, x2, degree in skill:\n",
    "\n",
    "        for i in range(y1, y2+1):\n",
    "            for j in range(x1, x2+1):\n",
    "                if type == 1:\n",
    "                    board[i][j] -= degree\n",
    "                else:\n",
    "                    board[i][j] += degree\n",
    "\n",
    "                    \n",
    "    for a in len(board):\n",
    "        for b in len(board[0]):\n",
    "            if board[a][b] > 0:\n",
    "                answer += 1 \n",
    "    return answer"
   ]
  },
  {
   "cell_type": "code",
   "execution_count": 61,
   "metadata": {},
   "outputs": [
    {
     "name": "stdout",
     "output_type": "stream",
     "text": [
      "map = \n",
      "[[-4, -1, 0, 0, 1, 4], [2, 0, -2, 0, 0, 0], [-2, 0, 0, 0, 2, 0], [2, 0, 0, 0, -2, 0], [2, 1, 2, 0, -1, -4]]\n",
      "------------------\n",
      "[[-4, -5, -5, -5, -4, 0], [-2, -3, -5, -5, -4, 0], [-4, -5, -7, -7, -4, 0], [-2, -3, -5, -5, -4, 0], [0, -2, -3, -5, -5, -4]]\n",
      "------------------\n",
      "[[1, 0, 0, 0, 1], [3, 2, 0, 0, 1], [1, 0, -2, -2, 1], [3, 2, 0, 0, 1]]\n"
     ]
    },
    {
     "data": {
      "text/plain": [
       "10"
      ]
     },
     "execution_count": 61,
     "metadata": {},
     "output_type": "execute_result"
    }
   ],
   "source": [
    "solution([[5,5,5,5,5],[5,5,5,5,5],[5,5,5,5,5],[5,5,5,5,5]],\t[[1,0,0,3,4,4],[1,2,0,2,3,2],[2,1,0,3,1,2],[1,0,1,3,3,1]]\t)\n",
    "#10\n"
   ]
  },
  {
   "cell_type": "code",
   "execution_count": 62,
   "metadata": {},
   "outputs": [
    {
     "name": "stdout",
     "output_type": "stream",
     "text": [
      "map = \n",
      "[[-2, 0, 2, 0], [0, -4, 0, 4], [102, -100, -2, 0], [-100, 104, 0, -4]]\n",
      "------------------\n",
      "[[-2, -2, 0, 0], [-2, -6, -4, 0], [100, -4, -4, 0], [0, 100, -4, -4]]\n",
      "------------------\n",
      "[[-1, 0, 3], [2, -1, 2], [107, 4, 5]]\n"
     ]
    },
    {
     "data": {
      "text/plain": [
       "6"
      ]
     },
     "execution_count": 62,
     "metadata": {},
     "output_type": "execute_result"
    }
   ],
   "source": [
    "\n",
    "solution([[1,2,3],[4,5,6],[7,8,9]],\t[[1,1,1,2,2,4],[1,0,0,1,1,2],[2,2,0,2,0,100]])\n",
    "#\t6"
   ]
  },
  {
   "cell_type": "code",
   "execution_count": 63,
   "metadata": {},
   "outputs": [],
   "source": [
    "def solution(board, skill):\n",
    "    answer = 0\n",
    "    map = [[0] * (len(board[0])+1) for _ in range(len(board)+1)]\n",
    "\n",
    "    for type, y1, x1, y2, x2, degree in skill:\n",
    "        map[y1][x1] += degree if type == 2 else -degree\n",
    "        map[y1][x2 +1] += -degree if type == 2 else degree\n",
    "        map[y2 +1][x1] += -degree if type == 2 else degree\n",
    "        map[y2 +1][x2 +1] += degree if type == 2 else -degree\n",
    "    print(\"map = \")\n",
    "    print(map)\n",
    "    for i in range(len(map)-1):\n",
    "        for j in range(len(map[0])-1):\n",
    "            map[i][j+1] += map[i][j]\n",
    "\n",
    "    for j in range(len(map[0])-1):\n",
    "        for i in range(len(map)-1):\n",
    "            map[i+1][j] += map[i][j]\n",
    "    print(\"------------------\")\n",
    "    print(map)\n",
    "    for a in range(len(board)):\n",
    "        for b in range(len(board[0])):\n",
    "            board[a][b] += map[a][b]\n",
    "            if board[a][b] > 0: answer += 1 \n",
    "    print(\"------------------\")\n",
    "    print(board)\n",
    "    return answer"
   ]
  },
  {
   "cell_type": "code",
   "execution_count": 68,
   "metadata": {},
   "outputs": [],
   "source": [
    "from collections import defaultdict\n",
    "\n",
    "def solution(arrows):\n",
    "    answer = 0\n",
    "    visited = defaultdict(list)\n",
    "    x,y = 0,0\n",
    "    dx = [0, 1, 1, 1, 0, -1, -1, -1]\n",
    "    dy = [1, 1, 0, -1, -1, -1, 0, 1]\n",
    "\n",
    "    for arrow in arrows:\n",
    "        for _ in range(2): \n",
    "            nx = x + dx[arrow]\n",
    "            ny = y + dy[arrow]\n",
    "            if (nx,ny) in visited and (x,y) not in visited[(nx,ny)]:\n",
    "                answer += 1\n",
    "                visited[(x,y)].append((nx,ny))\n",
    "                visited[(nx,ny)].append((x,y))\n",
    "            elif (nx,ny) not in visited:\n",
    "                visited[(x,y)].append((nx,ny))\n",
    "                visited[(nx,ny)].append((x,y))\n",
    "            x,y = nx,ny\n",
    "\n",
    "    return answer"
   ]
  },
  {
   "cell_type": "code",
   "execution_count": 69,
   "metadata": {},
   "outputs": [
    {
     "data": {
      "text/plain": [
       "3"
      ]
     },
     "execution_count": 69,
     "metadata": {},
     "output_type": "execute_result"
    }
   ],
   "source": [
    "solution([6, 6, 6, 4, 4, 4, 2, 2, 2, 0, 0, 0, 1, 6, 5, 5, 3, 6, 0]\t)"
   ]
  },
  {
   "cell_type": "code",
   "execution_count": 13,
   "metadata": {},
   "outputs": [],
   "source": [
    "from collections import Counter\n",
    "def solution(participant, completion):\n",
    "    ans = Counter(participant) - Counter(completion)\n",
    "    return list(ans.keys())[0]\n"
   ]
  },
  {
   "cell_type": "code",
   "execution_count": 14,
   "metadata": {},
   "outputs": [
    {
     "data": {
      "text/plain": [
       "'mislav'"
      ]
     },
     "execution_count": 14,
     "metadata": {},
     "output_type": "execute_result"
    }
   ],
   "source": [
    "solution([\"mislav\", \"stanko\", \"mislav\", \"ana\"],\t[\"stanko\", \"ana\", \"mislav\"])"
   ]
  },
  {
   "cell_type": "code",
   "execution_count": 25,
   "metadata": {},
   "outputs": [],
   "source": [
    "def solution(genres, plays):\n",
    "    answer = []\n",
    "    d = {e:[] for e in set(genres)}\n",
    "    print(d)\n",
    "    for e in zip(genres, plays, range(len(plays))):\n",
    "        d[e[0]].append([e[1] , e[2]])\n",
    "    print(d)\n",
    "    genreSort =sorted(list(d.keys()), key= lambda x: sum( map(lambda y: y[0],d[x])), reverse = True)\n",
    "    print(\"genreSort = \",genreSort)\n",
    "    for g in genreSort:\n",
    "        temp = [e[1] for e in sorted(d[g],key= lambda x: (x[0], -x[1]), reverse = True)]\n",
    "        print(\"temp = \",temp)\n",
    "        answer += temp[:min(len(temp),2)]\n",
    "    return answer"
   ]
  },
  {
   "cell_type": "markdown",
   "metadata": {},
   "source": []
  },
  {
   "cell_type": "code",
   "execution_count": 26,
   "metadata": {},
   "outputs": [
    {
     "name": "stdout",
     "output_type": "stream",
     "text": [
      "{'pop': [], 'classic': []}\n",
      "{'pop': [[600, 1], [2500, 4]], 'classic': [[500, 0], [150, 2], [800, 3]]}\n",
      "genreSort =  ['pop', 'classic']\n",
      "temp =  [4, 1]\n",
      "temp =  [3, 0, 2]\n"
     ]
    },
    {
     "data": {
      "text/plain": [
       "[4, 1, 3, 0]"
      ]
     },
     "execution_count": 26,
     "metadata": {},
     "output_type": "execute_result"
    }
   ],
   "source": [
    "solution([\"classic\", \"pop\", \"classic\", \"classic\", \"pop\"],\t[500, 600, 150, 800, 2500])"
   ]
  },
  {
   "cell_type": "code",
   "execution_count": 39,
   "metadata": {},
   "outputs": [
    {
     "name": "stdout",
     "output_type": "stream",
     "text": [
      "test\n",
      "i,j =  2 3\n",
      "3 2\n"
     ]
    },
    {
     "data": {
      "text/plain": [
       "[5, 4, 1, 1, 2, 1]"
      ]
     },
     "execution_count": 39,
     "metadata": {},
     "output_type": "execute_result"
    }
   ],
   "source": []
  },
  {
   "cell_type": "code",
   "execution_count": 42,
   "metadata": {},
   "outputs": [
    {
     "name": "stdout",
     "output_type": "stream",
     "text": [
      "[(1, 2), (3, 1), (2, 3)]\n",
      "tk =  3 5\n",
      "[(2, 3), (3, 1)]\n",
      "tk =  2 2\n",
      "[(3, 1)]\n",
      "tk =  1 0\n"
     ]
    },
    {
     "data": {
      "text/plain": [
       "1"
      ]
     },
     "execution_count": 42,
     "metadata": {},
     "output_type": "execute_result"
    }
   ],
   "source": [
    "import heapq\n",
    "\n",
    "\n",
    "def solution(food_times, k):\n",
    "    answer = -1\n",
    "    h = []\n",
    "    for i in range(len(food_times)):\n",
    "        heapq.heappush(h, (food_times[i], i + 1))\n",
    "\n",
    "    food_num = len(food_times)  # 남은 음식 개수\n",
    "    previous = 0  # 이전에 제거한 음식의 food_time\n",
    "\n",
    "    while h:\n",
    "        print(h)\n",
    "        \n",
    "        # 먹는데 걸리는 시간: (남은 양) * (남은 음식 개수)\n",
    "        t = (h[0][0] - previous) * food_num\n",
    "        print(\"tk = \",t,k)\n",
    "        # 시간이 남을 경우 현재 음식 빼기\n",
    "        if k >= t:\n",
    "            k -= t\n",
    "            previous, _ = heapq.heappop(h)\n",
    "            food_num -= 1\n",
    "        # 시간이 부족할 경우(음식을 다 못먹을 경우) 남은 음식 중에 먹어야 할 음식 찾기\n",
    "        else:\n",
    "            idx = k % food_num\n",
    "            h.sort(key=lambda x: x[1])\n",
    "            answer = h[idx][1]\n",
    "            break\n",
    "\n",
    "    return answer\n",
    "\n",
    "solution([3, 1, 2],\t5)"
   ]
  },
  {
   "cell_type": "code",
   "execution_count": null,
   "metadata": {},
   "outputs": [],
   "source": [
    "import sys\n",
    "\n",
    "n = int(input())\n",
    "card = list(map(int, sys.stdin.readline().split()))\n",
    "m = int(input())\n",
    "check = list(map(int, sys.stdin.readline().split()))\n",
    "\n",
    "card.sort()\n",
    "\n",
    "def card_search(card_list, target, start, end):\n",
    "    while start <= end:\n",
    "        mid = (start+end)//2\n",
    "        if card_list[mid] == target:\n",
    "            return True\n",
    "        elif card_list[mid] > target:\n",
    "            end = mid - 1\n",
    "        else:\n",
    "            start = mid +1\n",
    "    return False\n",
    "\n",
    "for i in range(m):\n",
    "    if card_search(card, check[i], 0, n-1):\n",
    "        print(1, end = \" \")\n",
    "    else:\n",
    "        print(0, end = \" \")"
   ]
  },
  {
   "cell_type": "code",
   "execution_count": 1,
   "metadata": {},
   "outputs": [],
   "source": [
    "import sys\n",
    "\n",
    "N, M = map(int, sys.stdin.readline().split())\n",
    "s = set([sys.stdin.readline() for _ in range(N)])\n",
    "answer = 0\n",
    "for _ in range(M):\n",
    "    i = sys.stdin.readline()\n",
    "    if i in s:\n",
    "        answer += 1\n",
    "print(answer)"
   ]
  },
  {
   "cell_type": "markdown",
   "metadata": {},
   "source": [
    "입력\n",
    "첫째 줄에는 도감에 수록되어 있는 포켓몬의 개수 N이랑 내가 맞춰야 하는 문제의 개수 M이 주어져. N과 M은 1보다 크거나 같고, 100,000보다 작거나 같은 자연수인데, 자연수가 뭔지는 알지? 모르면 물어봐도 괜찮아. 나는 언제든지 질문에 답해줄 준비가 되어있어.\n",
    "\n",
    "둘째 줄부터 N개의 줄에 포켓몬의 번호가 1번인 포켓몬부터 N번에 해당하는 포켓몬까지 한 줄에 하나씩 입력으로 들어와. 포켓몬의 이름은 모두 영어로만 이루어져있고, 또, 음... 첫 글자만 대문자이고, 나머지 문자는 소문자로만 이루어져 있어. 아참! 일부 포켓몬은 마지막 문자만 대문자일 수도 있어. 포켓몬 이름의 최대 길이는 20, 최소 길이는 2야. 그 다음 줄부터 총 M개의 줄에 내가 맞춰야하는 문제가 입력으로 들어와. 문제가 알파벳으로만 들어오면 포켓몬 번호를 말해야 하고, 숫자로만 들어오면, 포켓몬 번호에 해당하는 문자를 출력해야해. 입력으로 들어오는 숫자는 반드시 1보다 크거나 같고, N보다 작거나 같고, 입력으로 들어오는 문자는 반드시 도감에 있는 포켓몬의 이름만 주어져. 그럼 화이팅!!!\n",
    "\n",
    "출력\n",
    "첫째 줄부터 차례대로 M개의 줄에 각각의 문제에 대한 답을 말해줬으면 좋겠어!!!. 입력으로 숫자가 들어왔다면 그 숫자에 해당하는 포켓몬의 이름을, 문자가 들어왔으면 그 포켓몬의 이름에 해당하는 번호를 출력하면 돼. 그럼 땡큐~"
   ]
  },
  {
   "cell_type": "code",
   "execution_count": null,
   "metadata": {},
   "outputs": [],
   "source": [
    "# 포켓몬 마스터\n",
    "import sys\n",
    "input = sys.stdin.readline\n",
    "\n",
    "N, M = map(int, input().strip())\n",
    "poke_num = {}\n",
    "poke_name = {}\n",
    "for i in range(1,N+1):\n",
    "    name = input()\n",
    "    poke_num[i] = name\n",
    "    poke_name[name] = i\n",
    "\n",
    "for _ in range(M):\n",
    "    quiz = input().strip()\n",
    "    if quiz.isdigit():\n",
    "        print(poke_num[int(quiz)])\n",
    "    else:\n",
    "        print(poke_name[quiz])"
   ]
  },
  {
   "cell_type": "markdown",
   "metadata": {},
   "source": [
    "문제\n",
    "숫자 카드는 정수 하나가 적혀져 있는 카드이다. 상근이는 숫자 카드 N개를 가지고 있다. 정수 M개가 주어졌을 때, 이 수가 적혀있는 숫자 카드를 상근이가 몇 개 가지고 있는지 구하는 프로그램을 작성하시오.\n",
    "\n",
    "입력\n",
    "첫째 줄에 상근이가 가지고 있는 숫자 카드의 개수 N(1 ≤ N ≤ 500,000)이 주어진다. 둘째 줄에는 숫자 카드에 적혀있는 정수가 주어진다. 숫자 카드에 적혀있는 수는 -10,000,000보다 크거나 같고, 10,000,000보다 작거나 같다.\n",
    "\n",
    "셋째 줄에는 M(1 ≤ M ≤ 500,000)이 주어진다. 넷째 줄에는 상근이가 몇 개 가지고 있는 숫자 카드인지 구해야 할 M개의 정수가 주어지며, 이 수는 공백으로 구분되어져 있다. 이 수도 -10,000,000보다 크거나 같고, 10,000,000보다 작거나 같다.\n",
    "\n",
    "출력\n",
    "첫째 줄에 입력으로 주어진 M개의 수에 대해서, 각 수가 적힌 숫자 카드를 상근이가 몇 개 가지고 있는지를 공백으로 구분해 출력한다."
   ]
  },
  {
   "cell_type": "code",
   "execution_count": null,
   "metadata": {},
   "outputs": [],
   "source": [
    "import sys\n",
    "from collections import Counter\n",
    "input = sys.stdin.readline\n",
    "\n",
    "N = input()\n",
    "card = Counter(map(int, input().split()))\n",
    "\n",
    "M = input()\n",
    "target = list(map(int, input().split()))\n",
    "\n",
    "for t in target:\n",
    "    print(card[t], end = \" \")"
   ]
  },
  {
   "cell_type": "markdown",
   "metadata": {},
   "source": [
    "문제\n",
    "김진영이 듣도 못한 사람의 명단과, 보도 못한 사람의 명단이 주어질 때, 듣도 보도 못한 사람의 명단을 구하는 프로그램을 작성하시오.\n",
    "\n",
    "입력\n",
    "첫째 줄에 듣도 못한 사람의 수 N, 보도 못한 사람의 수 M이 주어진다. 이어서 둘째 줄부터 N개의 줄에 걸쳐 듣도 못한 사람의 이름과, N+2째 줄부터 보도 못한 사람의 이름이 순서대로 주어진다. 이름은 띄어쓰기 없이 알파벳 소문자로만 이루어지며, 그 길이는 20 이하이다. N, M은 500,000 이하의 자연수이다.\n",
    "\n",
    "듣도 못한 사람의 명단에는 중복되는 이름이 없으며, 보도 못한 사람의 명단도 마찬가지이다.\n",
    "\n",
    "출력\n",
    "듣보잡의 수와 그 명단을 사전순으로 출력한다.\n",
    "\n",
    "3 4\n",
    "ohhenrie\n",
    "charlie\n",
    "baesangwook\n",
    "obama\n",
    "baesangwook\n",
    "ohhenrie\n",
    "clinton"
   ]
  },
  {
   "cell_type": "code",
   "execution_count": 1,
   "metadata": {},
   "outputs": [
    {
     "name": "stdout",
     "output_type": "stream",
     "text": [
      "2\n",
      "ohh\n",
      "base\n"
     ]
    }
   ],
   "source": [
    "a = set([\"ohh\", \"char\",\"base\"])\n",
    "b = set([\"oba\", \"base\", \"ohh\", \"clin\"])\n",
    "\n",
    "c = a.intersection(b)\n",
    "print(len(c))\n",
    "for i in c:\n",
    "    print(i)\n",
    "##########################################\n",
    "import sys\n",
    "input = sys.stdin.readline\n",
    "\n",
    "N, M = map(int, input().split())\n",
    "no_see, no_hear = set(), set()\n",
    "\n",
    "for str in range(N):\n",
    "    no_see.add(input().strip())\n",
    "for str in range(M):\n",
    "    no_hear.add(input().strip())\n",
    "\n",
    "no_hear_see = sorted(no_see.intersection(no_hear))\n",
    "print(len(no_hear_see))\n",
    "for i in no_hear_see:\n",
    "    print(i)"
   ]
  },
  {
   "cell_type": "markdown",
   "metadata": {},
   "source": [
    "자연수를 원소로 갖는 공집합이 아닌 두 집합 A와 B가 있다. 이때, 두 집합의 대칭 차집합의 원소의 개수를 출력하는 프로그램을 작성하시오. 두 집합 A와 B가 있을 때, (A-B)와 (B-A)의 합집합을 A와 B의 대칭 차집합이라고 한다.\n",
    "\n",
    "예를 들어, A = { 1, 2, 4 } 이고, B = { 2, 3, 4, 5, 6 } 라고 할 때,  A-B = { 1 } 이고, B-A = { 3, 5, 6 } 이므로, 대칭 차집합의 원소의 개수는 1 + 3 = 4개이다.\n",
    "\n",
    "입력\n",
    "첫째 줄에 집합 A의 원소의 개수와 집합 B의 원소의 개수가 빈 칸을 사이에 두고 주어진다. 둘째 줄에는 집합 A의 모든 원소가, 셋째 줄에는 집합 B의 모든 원소가 빈 칸을 사이에 두고 각각 주어진다. 각 집합의 원소의 개수는 200,000을 넘지 않으며, 모든 원소의 값은 100,000,000을 넘지 않는다.\n",
    "\n",
    "출력\n",
    "첫째 줄에 대칭 차집합의 원소의 개수를 출력한다."
   ]
  },
  {
   "cell_type": "code",
   "execution_count": 4,
   "metadata": {},
   "outputs": [
    {
     "name": "stdout",
     "output_type": "stream",
     "text": [
      "4\n"
     ]
    }
   ],
   "source": [
    "A = set([1,2,4])\n",
    "B = set([2,3,4,5,6])\n",
    "print(len(A-B)+len(B-A))"
   ]
  },
  {
   "cell_type": "code",
   "execution_count": 3,
   "metadata": {},
   "outputs": [
    {
     "name": "stdout",
     "output_type": "stream",
     "text": [
      "set()\n",
      "{'b'}\n"
     ]
    }
   ],
   "source": [
    "import sys\n",
    "input = sys.stdin.readline\n",
    "\n",
    "N, M = map(int, input().split())\n",
    "A = set(map(int, input().split()))\n",
    "B = set(map(int, input().split()))\n",
    "print(len(A-B)+len(B-A))"
   ]
  },
  {
   "cell_type": "markdown",
   "metadata": {},
   "source": [
    "문제\n",
    "문자열 S가 주어졌을 때, S의 서로 다른 부분 문자열의 개수를 구하는 프로그램을 작성하시오.\n",
    "\n",
    "부분 문자열은 S에서 연속된 일부분을 말하며, 길이가 1보다 크거나 같아야 한다.\n",
    "\n",
    "예를 들어, ababc의 부분 문자열은 a, b, a, b, c, ab, ba, ab, bc, aba, bab, abc, abab, babc, ababc가 있고, 서로 다른것의 개수는 12개이다.\n",
    "\n",
    "입력\n",
    "첫째 줄에 문자열 S가 주어진다. S는 알파벳 소문자로만 이루어져 있고, 길이는 1,000 이하이다.\n",
    "\n",
    "출력\n",
    "첫째 줄에 S의 서로 다른 부분 문자열의 개수를 출력한다."
   ]
  },
  {
   "cell_type": "code",
   "execution_count": 10,
   "metadata": {},
   "outputs": [
    {
     "name": "stdout",
     "output_type": "stream",
     "text": [
      "a\n",
      "ab\n",
      "aba\n",
      "abab\n",
      "ababc\n",
      "b\n",
      "ba\n",
      "bab\n",
      "babc\n",
      "a\n",
      "ab\n",
      "abc\n",
      "b\n",
      "bc\n",
      "c\n",
      "12\n"
     ]
    }
   ],
   "source": [
    "import sys\n",
    "input = sys.stdin.readline\n",
    "\n",
    "s = input().strip()\n",
    "answer = set()\n",
    "for i in range(len(s)):\n",
    "    for j in range(i, len(s)):\n",
    "        answer.add(s[i:j+1])\n",
    "print(len(answer))"
   ]
  },
  {
   "cell_type": "markdown",
   "metadata": {},
   "source": [
    "문제\n",
    "4 × 3 = 12이다.\n",
    "\n",
    "이 식을 통해 다음과 같은 사실을 알 수 있다.\n",
    "\n",
    "3은 12의 약수이고, 12는 3의 배수이다.\n",
    "\n",
    "4도 12의 약수이고, 12는 4의 배수이다.\n",
    "\n",
    "두 수가 주어졌을 때, 다음 3가지 중 어떤 관계인지 구하는 프로그램을 작성하시오.\n",
    "\n",
    "첫 번째 숫자가 두 번째 숫자의 약수이다.\n",
    "첫 번째 숫자가 두 번째 숫자의 배수이다.\n",
    "첫 번째 숫자가 두 번째 숫자의 약수와 배수 모두 아니다.\n",
    "입력\n",
    "입력은 여러 테스트 케이스로 이루어져 있다. 각 테스트 케이스는 10,000이 넘지않는 두 자연수로 이루어져 있다. 마지막 줄에는 0이 2개 주어진다. 두 수가 같은 경우는 없다.\n",
    "\n",
    "출력\n",
    "각 테스트 케이스마다 첫 번째 숫자가 두 번째 숫자의 약수라면 factor를, 배수라면 multiple을, 둘 다 아니라면 neither를 출력한다."
   ]
  },
  {
   "cell_type": "code",
   "execution_count": null,
   "metadata": {},
   "outputs": [],
   "source": [
    "import sys\n",
    "input = sys.stdin.readline\n",
    "\n",
    "while True:\n",
    "    M, N = map(int, input().split())\n",
    "    if (M + N) == 0: break\n",
    "    if M % N == 0:\n",
    "        print(\"multiple\")\n",
    "    elif N % M == 0:\n",
    "        print(\"factor\")\n",
    "    else:\n",
    "        print(\"neither\")"
   ]
  },
  {
   "cell_type": "markdown",
   "metadata": {},
   "source": [
    "약수\n",
    "문제\n",
    "양수 A가 N의 진짜 약수가 되려면, N이 A의 배수이고, A가 1과 N이 아니어야 한다. 어떤 수 N의 진짜 약수가 모두 주어질 때, N을 구하는 프로그램을 작성하시오.\n",
    "\n",
    "입력\n",
    "첫째 줄에 N의 진짜 약수의 개수가 주어진다. 이 개수는 50보다 작거나 같은 자연수이다. 둘째 줄에는 N의 진짜 약수가 주어진다. 1,000,000보다 작거나 같고, 2보다 크거나 같은 자연수이고, 중복되지 않는다.\n",
    "\n",
    "출력\n",
    "첫째 줄에 N을 출력한다. N은 항상 32비트 부호있는 정수로 표현할 수 있다."
   ]
  },
  {
   "cell_type": "code",
   "execution_count": null,
   "metadata": {},
   "outputs": [],
   "source": [
    "import sys\n",
    "input = sys.stdin.readline\n",
    "\n",
    "N = input()\n",
    "arr = list(map(int, input().split()))\n",
    "arr.sort()\n",
    "print(arr[0]*arr[-1])\n"
   ]
  },
  {
   "cell_type": "markdown",
   "metadata": {},
   "source": [
    "문제\n",
    "트럭을 타고 이동하던 상근이는 경찰의 검문을 받게 되었다. 경찰은 상근이가 운반하던 화물을 하나하나 모두 확인할 것이기 때문에, 검문하는데 엄청나게 오랜 시간이 걸린다.\n",
    "\n",
    "상근이는 시간을 때우기 위해서 수학 게임을 하기로 했다.\n",
    "\n",
    "먼저 근처에 보이는 숫자 N개를 종이에 적는다. 그 다음, 종이에 적은 수를 M으로 나누었을 때, 나머지가 모두 같게 되는 M을 모두 찾으려고 한다. M은 1보다 커야 한다.\n",
    "\n",
    "N개의 수가 주어졌을 때, 가능한 M을 모두 찾는 프로그램을 작성하시오.\n",
    "\n",
    "입력\n",
    "첫째 줄에 종이에 적은 수의 개수 N이 주어진다. (2 ≤ N ≤ 100)\n",
    "\n",
    "다음 줄부터 N개 줄에는 종이에 적은 수가 하나씩 주어진다. 이 수는 모두 1보다 크거나 같고, 1,000,000,000보다 작거나 같은 자연수이다. 같은 수가 두 번 이상 주어지지 않는다.\n",
    "\n",
    "항상 M이 하나 이상 존재하는 경우만 입력으로 주어진다.\n",
    "\n",
    "출력\n",
    "첫째 줄에 가능한 M을 공백으로 구분하여 모두 출력한다. 이때, M은 증가하는 순서이어야 한다."
   ]
  },
  {
   "cell_type": "code",
   "execution_count": 4,
   "metadata": {},
   "outputs": [
    {
     "name": "stdout",
     "output_type": "stream",
     "text": [
      "re_num :  [28, 4]\n",
      "GCD = :  4\n",
      "2 4\n"
     ]
    }
   ],
   "source": [
    "# N = int(input())\n",
    "# num = sorted([int(input()) for _ in range(N)])\n",
    "N = 3\n",
    "num = [6, 34, 38] \n",
    "re_num = []\n",
    "\n",
    "for i in range(1, N):\n",
    "    re_num.append(num[i] - num[i-1])\n",
    "print(\"re_num : \",re_num)\n",
    "\n",
    "def findGCD(a, b):\n",
    "    num = b\n",
    "    div = a\n",
    "    rest = num % div\n",
    "    while rest != 0:\n",
    "        num = div\n",
    "        div = rest\n",
    "        rest = num % div\n",
    "    return div\n",
    "\n",
    "GCD = re_num[0]\n",
    "for idx in range(1, len(re_num)):\n",
    "    GCD = findGCD(GCD, re_num[idx])\n",
    "print(\"GCD  : \",GCD)\n",
    "\n",
    "result = set()\n",
    "for i in range(2, int(GCD**0.5) + 1):\n",
    "    if GCD % i == 0:\n",
    "        result.add(i)\n",
    "        result.add(GCD // i)\n",
    "result.add(GCD)\n",
    "print(*sorted(list(result)))"
   ]
  },
  {
   "cell_type": "code",
   "execution_count": 7,
   "metadata": {},
   "outputs": [
    {
     "data": {
      "text/plain": [
       "0"
      ]
     },
     "execution_count": 7,
     "metadata": {},
     "output_type": "execute_result"
    }
   ],
   "source": [
    "def solution(cookie):\n",
    "    answer = 0\n",
    "    N = len(cookie)\n",
    "    for i in range(N-1):\n",
    "        left_bro, left_idx = cookie[i], i\n",
    "        right_bro, right_idx = cookie[i+1], i+1\n",
    "        while True:\n",
    "            if left_bro == right_bro:\n",
    "                answer = max(answer, left_bro)\n",
    "            if left_idx > 0 and left_bro <= right_bro:\n",
    "                left_idx -= 1\n",
    "                left_bro += cookie[left_idx]\n",
    "            elif right_idx < N-1 and right_bro <= left_bro:\n",
    "                right_idx += 1\n",
    "                right_bro += cookie[right_idx]\n",
    "            else:\n",
    "                break\n",
    "\n",
    "    return answer\n",
    "\n",
    "solution([1,1,2,3])\n",
    "solution([1,2,4,5])"
   ]
  },
  {
   "cell_type": "code",
   "execution_count": 10,
   "metadata": {},
   "outputs": [
    {
     "name": "stdout",
     "output_type": "stream",
     "text": [
      "{1: [2], 2: [1, 3], 3: [2, 4], 4: [3]}\n",
      "leaf :  [[1, 0], [2, 1], [3, 2], [4, 3]]\n",
      "farther :  [[4, 0], [3, 1], [2, 2], [1, 3]]\n"
     ]
    },
    {
     "data": {
      "text/plain": [
       "2"
      ]
     },
     "execution_count": 10,
     "metadata": {},
     "output_type": "execute_result"
    }
   ],
   "source": [
    "from collections import deque\n",
    "\n",
    "def BFS(tree, start):\n",
    "    distance = []\n",
    "    q = deque()\n",
    "    q.append([start, 0]) \n",
    "    visit = {start : True} \n",
    "\n",
    "    while q:\n",
    "        curr, dist = q.popleft()\n",
    "        distance.append([curr, dist])\n",
    "\n",
    "        for node in tree[curr]:\n",
    "            if node not in visit:\n",
    "                q.append([node, dist+1])\n",
    "                visit[node] = True\n",
    "\n",
    "    return distance\n",
    "\n",
    "def solution(n, edges):\n",
    "    tree = {i+1 : [] for i in range(n)}\n",
    "    for edge in edges:\n",
    "        tree[edge[0]].append(edge[1])\n",
    "        tree[edge[1]].append(edge[0])\n",
    "    print(tree)\n",
    "    \n",
    "    leaf = BFS(tree, 1)\n",
    "    farther = BFS(tree, leaf[-1][0])\n",
    "    print(\"leaf : \", leaf)\n",
    "    print(\"farther : \", farther)\n",
    "\n",
    "    if leaf[-1][1] == leaf[-2][1]:\n",
    "        return farther[-1][1]\n",
    "    else:\n",
    "        return farther[-2][1]\n",
    "\n",
    "solution(4, [[1,2], [2,3], [3,4]])\n"
   ]
  },
  {
   "cell_type": "code",
   "execution_count": 11,
   "metadata": {},
   "outputs": [
    {
     "name": "stdout",
     "output_type": "stream",
     "text": [
      "{1: [5], 2: [5], 3: [5], 4: [5], 5: [1, 2, 3, 4]}\n",
      "leaf :  [[1, 0], [5, 1], [2, 2], [3, 2], [4, 2]]\n",
      "farther :  [[4, 0], [5, 1], [1, 2], [2, 2], [3, 2]]\n"
     ]
    },
    {
     "data": {
      "text/plain": [
       "2"
      ]
     },
     "execution_count": 11,
     "metadata": {},
     "output_type": "execute_result"
    }
   ],
   "source": [
    "solution(5, [[1,5], [2,5], [3,5], [4,5]])"
   ]
  },
  {
   "cell_type": "code",
   "execution_count": null,
   "metadata": {},
   "outputs": [],
   "source": [
    "def is_pair(s):\n",
    "    # 함수를 완성하세요\n",
    "    x = 0\n",
    "    for w in s:\n",
    "        if x < 0:\n",
    "            break\n",
    "        x = x+1 if w==\"(\" else x-1 if w==\")\" else x\n",
    "    return x==0\n",
    "\n",
    "\n",
    "# 아래는 테스트로 출력해 보기 위한 코드입니다.\n",
    "print( is_pair(\"(hello)()\"))\n",
    "print( is_pair(\")(\"))"
   ]
  },
  {
   "cell_type": "code",
   "execution_count": null,
   "metadata": {},
   "outputs": [],
   "source": [
    "import math\n",
    "\n",
    "def solution(progresses, speeds):\n",
    "    q = []\n",
    "    for progress, speed in zip(progresses, speeds):\n",
    "        # c =  math.ceil((100-progress) / speed)\n",
    "        c = (100-progress) // speed + 1 if (100-progress) % speed > 0 else (100-progress) // speed\n",
    "        if len(q) == 0 or q[-1][0] < c: \n",
    "            q.append([c,1])\n",
    "        else:\n",
    "            q[-1][1] += 1\n",
    "            \n",
    "                \n",
    "    return [sol[1] for sol in q]"
   ]
  },
  {
   "cell_type": "code",
   "execution_count": 11,
   "metadata": {},
   "outputs": [
    {
     "name": "stdout",
     "output_type": "stream",
     "text": [
      "[]\n",
      "[[9, 1]]\n",
      "[]\n",
      "9\n"
     ]
    }
   ],
   "source": [
    "import heapq\n",
    "\n",
    "def solution(jobs):\n",
    "    answer, now, cnt  = 0,0,0\n",
    "    start = -1\n",
    "    heap = []\n",
    "\n",
    "    while cnt < len(jobs):\n",
    "        for re, ti in jobs:\n",
    "            if start < re <= now:\n",
    "                heapq.heappush(heap, [ti, re])\n",
    "        \n",
    "\n",
    "        if len(heap) > 0:\n",
    "            progress_time ,request_time = heapq.heappop(heap)\n",
    "            start = now\n",
    "            now += progress_time\n",
    "            answer += (now - request_time)\n",
    "            cnt += 1\n",
    "        \n",
    "        else:\n",
    "            now += 1\n",
    "\n",
    "    return int(answer/len(jobs))\n",
    "\n",
    "print(solution([[0, 3], [1, 9], [2, 6]]))"
   ]
  },
  {
   "cell_type": "code",
   "execution_count": 12,
   "metadata": {},
   "outputs": [
    {
     "ename": "SyntaxError",
     "evalue": "invalid syntax (1021352779.py, line 10)",
     "output_type": "error",
     "traceback": [
      "\u001b[1;36m  Input \u001b[1;32mIn [12]\u001b[1;36m\u001b[0m\n\u001b[1;33m    if dir in sol\u001b[0m\n\u001b[1;37m                 ^\u001b[0m\n\u001b[1;31mSyntaxError\u001b[0m\u001b[1;31m:\u001b[0m invalid syntax\n"
     ]
    }
   ],
   "source": [
    "# 참외밭\n",
    "import sys\n",
    "input = sys.stdin.readline\n",
    "\n",
    "sol = {}\n",
    "\n",
    "N = input()\n",
    "for _ in range(N):\n",
    "    dir, len = map(int, input().split())\n",
    "    sol[dir].append(len)"
   ]
  },
  {
   "cell_type": "code",
   "execution_count": 14,
   "metadata": {},
   "outputs": [
    {
     "name": "stdout",
     "output_type": "stream",
     "text": [
      "defaultdict(<class 'list'>, {1: [3], 2: [4], 3: [5]})\n"
     ]
    }
   ],
   "source": [
    "from collections import defaultdict\n",
    "\n",
    "qq = [[1,3], [2,4], [3,5]]\n",
    "dic = defaultdict(list)\n",
    "for a,b in qq:\n",
    "    dic[a].append(b)\n",
    "print(dic)"
   ]
  },
  {
   "cell_type": "code",
   "execution_count": null,
   "metadata": {},
   "outputs": [],
   "source": [
    "print(\"hello\")"
   ]
  },
  {
   "cell_type": "code",
   "execution_count": 1,
   "metadata": {},
   "outputs": [
    {
     "ename": "AttributeError",
     "evalue": "'str' object has no attribute 'append'",
     "output_type": "error",
     "traceback": [
      "\u001b[1;31m---------------------------------------------------------------------------\u001b[0m",
      "\u001b[1;31mAttributeError\u001b[0m                            Traceback (most recent call last)",
      "\u001b[1;32mc:\\Users\\Airdeep_DE\\Documents\\Coding_practice\\2022_KAKAO_TECH_INTERNSHIP\\programmers.ipynb Cell 90\u001b[0m in \u001b[0;36m<cell line: 2>\u001b[1;34m()\u001b[0m\n\u001b[0;32m      <a href='vscode-notebook-cell:/c%3A/Users/Airdeep_DE/Documents/Coding_practice/2022_KAKAO_TECH_INTERNSHIP/programmers.ipynb#Y155sZmlsZQ%3D%3D?line=0'>1</a>\u001b[0m c \u001b[39m=\u001b[39m \u001b[39m\"\u001b[39m\u001b[39mtest_str_\u001b[39m\u001b[39m\"\u001b[39m\n\u001b[1;32m----> <a href='vscode-notebook-cell:/c%3A/Users/Airdeep_DE/Documents/Coding_practice/2022_KAKAO_TECH_INTERNSHIP/programmers.ipynb#Y155sZmlsZQ%3D%3D?line=1'>2</a>\u001b[0m c\u001b[39m.\u001b[39;49mappend(\u001b[39m\"\u001b[39m\u001b[39mtest_str\u001b[39m\u001b[39m\"\u001b[39m)\n\u001b[0;32m      <a href='vscode-notebook-cell:/c%3A/Users/Airdeep_DE/Documents/Coding_practice/2022_KAKAO_TECH_INTERNSHIP/programmers.ipynb#Y155sZmlsZQ%3D%3D?line=2'>3</a>\u001b[0m \u001b[39mprint\u001b[39m(c)\n",
      "\u001b[1;31mAttributeError\u001b[0m: 'str' object has no attribute 'append'"
     ]
    }
   ],
   "source": [
    "c = \"test_str_\"\n",
    "c.append(\"test_str\")\n",
    "print(c)"
   ]
  },
  {
   "cell_type": "code",
   "execution_count": 7,
   "metadata": {},
   "outputs": [
    {
     "data": {
      "text/plain": [
       "1"
      ]
     },
     "execution_count": 7,
     "metadata": {},
     "output_type": "execute_result"
    }
   ],
   "source": [
    "import math\n",
    "\n",
    "def check_link_circle(t_x, t_y, x, y, W,H):\n",
    "    y = y + H/2\n",
    "    x = x+W if t_x > x else x\n",
    "    # print(\"x, y = \", x,y)\n",
    "    flag = math.sqrt(math.pow(t_x-x, 2)+math.pow( y-t_y, 2))\n",
    "    # print((t_x, t_y),flag <= H/2)\n",
    "    return True if flag <= H/2 else False\n",
    "\n",
    "def sol(W, H ,x, y, player):\n",
    "    answer = 0\n",
    "    for p_x, p_y in player:\n",
    "        if (x <= p_x <= x+W ) and ( y <= p_y <= y+H):\n",
    "            answer +=1\n",
    "        elif p_x < x or p_x > x+W:\n",
    "            answer += check_link_circle(p_x, p_y, x, y, W, H) \n",
    "    \n",
    "    return answer\n",
    "\n",
    "sol(20, 10, 5, 0, [(15,5),(1,5),(1,1)])\n",
    "sol(20,10,0,0, [(-5,5),(-4,2),()])"
   ]
  },
  {
   "cell_type": "code",
   "execution_count": null,
   "metadata": {},
   "outputs": [],
   "source": [
    "import math\n",
    "import sys\n",
    "input = sys.stdin.readline\n",
    "\n",
    "W, H, x, y, P = map(int, input().split())\n",
    "answer = 0\n",
    "for _ in range(P):\n",
    "    p_x, p_y = map(int, input().split())\n",
    "    if (x <= p_x <= x+W ) and ( y <= p_y <= y+H):\n",
    "        answer +=1\n",
    "        continue\n",
    "    r = H/2\n",
    "    flag1 = math.sqrt(math.pow(p_x - x, 2)+ math.pow( p_y - (y+r), 2))\n",
    "    flag2 = math.sqrt(math.pow(p_x - (x+W), 2)+ math.pow( p_y - (y+r), 2))\n",
    "    if flag1 <= r or flag2 <= r:\n",
    "        answer +=1\n",
    "    \n",
    "print(answer)"
   ]
  }
 ],
 "metadata": {
  "kernelspec": {
   "display_name": "Python 3.9.13 64-bit",
   "language": "python",
   "name": "python3"
  },
  "language_info": {
   "codemirror_mode": {
    "name": "ipython",
    "version": 3
   },
   "file_extension": ".py",
   "mimetype": "text/x-python",
   "name": "python",
   "nbconvert_exporter": "python",
   "pygments_lexer": "ipython3",
   "version": "3.9.13"
  },
  "orig_nbformat": 4,
  "vscode": {
   "interpreter": {
    "hash": "52634da84371cba311ea128a5ea7cdc41ff074b781779e754b270ff9f8153cee"
   }
  }
 },
 "nbformat": 4,
 "nbformat_minor": 2
}
