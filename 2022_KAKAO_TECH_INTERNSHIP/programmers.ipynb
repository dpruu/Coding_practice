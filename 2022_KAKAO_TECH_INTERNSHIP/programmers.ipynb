{
 "cells": [
  {
   "cell_type": "markdown",
   "metadata": {},
   "source": [
    "# 등산코스 정하기"
   ]
  },
  {
   "cell_type": "code",
   "execution_count": 38,
   "metadata": {},
   "outputs": [],
   "source": [
    "def solution(n, paths, gates, summits):\n",
    "\n",
    "    hiking_trail = {}\n",
    "    \n",
    "    for i, j, time in paths:\n",
    "        for start , end in ((i,j), (j,i)):\n",
    "            try:\n",
    "                hiking_trail[start].append((end,time))\n",
    "            except:\n",
    "                hiking_trail[start] = [(end,time)]\n",
    "    \n",
    "    intensity = [10000001] * (n+1)\n",
    "    \n",
    "    for gate in gates:\n",
    "        intensity[gate] = 0\n",
    "\n",
    "    peak = set(summits)        \n",
    "\n",
    "    while gates:\n",
    "        trail = set()\n",
    "        # now = gates.pop()\n",
    "        for now in gates:            \n",
    "            for nx, time in hiking_trail[now]:\n",
    "                max_time = max(time, intensity[now])\n",
    "                \n",
    "                if intensity[nx] > max_time:\n",
    "                    intensity[nx] = max_time\n",
    "                    \n",
    "                    if nx not in peak:\n",
    "                        trail.add(nx)    \n",
    "\n",
    "        gates = list(trail)\n",
    "    \n",
    "    return min([[peak, intensity[peak]] for peak in summits], key = lambda x : (x[1],x[0]))"
   ]
  },
  {
   "cell_type": "code",
   "execution_count": 39,
   "metadata": {},
   "outputs": [
    {
     "data": {
      "text/plain": [
       "[5, 6]"
      ]
     },
     "execution_count": 39,
     "metadata": {},
     "output_type": "execute_result"
    }
   ],
   "source": [
    "solution(6,[[1, 2, 3], [2, 3, 5], [2, 4, 2], [2, 5, 4], [3, 4, 4], [4, 5, 3], [4, 6, 1], [5, 6, 1]],\t[1, 3],\t[5])\n",
    "#[5, 3]\n",
    "solution(7,[[1, 4, 4], [1, 6, 1], [1, 7, 3], [2, 5, 2], [3, 7, 4], [5, 6, 6]],\t[1],\t[2, 3, 4]\t)\n",
    "#[3, 4]\n",
    "solution(7,[[1, 2, 5], [1, 4, 1], [2, 3, 1], [2, 6, 7], [4, 5, 1], [5, 6, 1], [6, 7, 1]]\t,[3, 7]\t,[1, 5]\t)\n",
    "#[5, 1]\n",
    "solution(5,[[1, 3, 10], [1, 4, 20], [2, 3, 4], [2, 4, 6], [3, 5, 20], [4, 5, 6]],\t[1, 2]\t,[5]\t)\n",
    "#[5, 6]"
   ]
  },
  {
   "cell_type": "code",
   "execution_count": 25,
   "metadata": {},
   "outputs": [],
   "source": [
    "def solution(n, paths, gates, summits):\n",
    "    field = {}\n",
    "    \n",
    "    for A, B, time in paths:\n",
    "        for x, y in ((A, B), (B, A)):\n",
    "            try:\n",
    "                field[x].append((y, time))\n",
    "            except:\n",
    "                field[x] = [(y, time)]\n",
    "    \n",
    "    intensity = [10000001] * (n + 1)\n",
    "    \n",
    "    for gate in gates:\n",
    "        intensity[gate] = 0\n",
    "    \n",
    "    check = set(summits)\n",
    "    stack = gates\n",
    "    \n",
    "    while stack:\n",
    "        target = set()\n",
    "        \n",
    "        while stack:\n",
    "            now = stack.pop()\n",
    "\n",
    "            for to, time in field[now]:\n",
    "                max_time = max(intensity[now], time)\n",
    "\n",
    "                if intensity[to] > max_time:\n",
    "                    intensity[to] = max_time\n",
    "                    \n",
    "                    if to not in check:\n",
    "                        target.add(to)\n",
    "\n",
    "        stack = list(target)\n",
    "        \n",
    "    return min([[summit, intensity[summit]] for summit in summits], key=lambda x: (x[1], x[0]))"
   ]
  },
  {
   "cell_type": "markdown",
   "metadata": {},
   "source": [
    "# 성격유형"
   ]
  },
  {
   "cell_type": "code",
   "execution_count": null,
   "metadata": {},
   "outputs": [],
   "source": [
    "def solution(survey, choices):\n",
    "    answer = ''\n",
    "\n",
    "    personality_test = {\"R\":0, \"T\":0, \"C\":0, \"F\":0, \"J\":0, \"M\":0, \"A\":0, \"N\":0}\n",
    "    \n",
    "    for i, choice in enumerate(choices):\n",
    "        if choice > 4:\n",
    "            personality_test[survey[i][1]] += choice - 4\n",
    "        elif choice < 4:\n",
    "            personality_test[survey[i][0]] += 4 - choice\n",
    "    \n",
    "    answer += \"T\" if personality_test[\"T\"] > personality_test[\"R\"] else \"R\"\n",
    "    answer += \"F\" if personality_test[\"F\"] > personality_test[\"C\"] else \"C\"\n",
    "    answer += \"M\" if personality_test[\"M\"] > personality_test[\"J\"] else \"J\"\n",
    "    answer += \"N\" if personality_test[\"N\"] > personality_test[\"A\"] else \"A\"\n",
    "    \n",
    "    return answer"
   ]
  },
  {
   "cell_type": "markdown",
   "metadata": {},
   "source": [
    "# 두 큐 합게 같게 만들기"
   ]
  },
  {
   "cell_type": "code",
   "execution_count": null,
   "metadata": {},
   "outputs": [],
   "source": [
    "from collections import deque as dq\n",
    "\n",
    "def solution(queue1, queue2):\n",
    "    answer = 0\n",
    "    dq1, dq2 = dq(queue1),  dq(queue2)\n",
    "    s1, s2 = sum(dq1), sum(dq2)\n",
    "    \n",
    "    target_sum , r = divmod(s1+s2, 2)\n",
    "    if r: \n",
    "        return -1\n",
    "    \n",
    "    while 1:\n",
    "        if len(dq1) == 0 or len(dq2) == 0:\n",
    "            answer = -1\n",
    "            break\n",
    "            \n",
    "        if s1 > target_sum :\n",
    "            temp = dq1.popleft()\n",
    "            s1 -= temp\n",
    "            \n",
    "        elif s1 < target_sum:\n",
    "            temp = dq2.popleft()\n",
    "            dq1.append(temp)\n",
    "            s1 += temp    \n",
    "        else:\n",
    "            break     \n",
    "            \n",
    "        answer += 1\n",
    "        \n",
    "    return answer"
   ]
  },
  {
   "cell_type": "markdown",
   "metadata": {},
   "source": [
    "# 코딩테스트 공부"
   ]
  },
  {
   "cell_type": "code",
   "execution_count": 13,
   "metadata": {},
   "outputs": [],
   "source": [
    "def bd_cal(val, axis):\n",
    "    if axis == \"alp\":\n",
    "        return min(maxalp, val)\n",
    "    else:\n",
    "        return min(maxcop, val)\n",
    "\n",
    "def dfs(alp, cop, problems):\n",
    "    if (maxalp <= alp and maxcop <= cop):\n",
    "        return 0\n",
    "    \n",
    "    if dp[alp][cop] != 300:\n",
    "        return dp[alp][cop]\n",
    "\n",
    "    dp[alp][cop] = 301\n",
    "    dp[alp][cop] = min(dp[alp][cop], 1+ dfs(bd_cal(alp+1,\"alp\"), cop, problems))\n",
    "    dp[alp][cop] = min(dp[alp][cop], 1+ dfs(alp, bd_cal(cop+1, \"cop\"), problems))\n",
    "\n",
    "    for problem in problems:\n",
    "        if problem[0] <= alp and problem[1] <= cop:\n",
    "            dp[alp][cop] = min(dp[alp][cop], problem[4] + dfs(bd_cal(alp + problem[2],\"alp\"), bd_cal(cop+problem[3],\"cop\"), problems))\n",
    "\n",
    "    return dp[alp][cop]\n",
    "\n",
    "\n",
    "def solution(alp, cop, problems):\n",
    "    global maxalp, maxcop, dp\n",
    "    maxalp, maxcop = max([i[0] for i in problems]),  max([i[1] for i in problems])\n",
    "    dp = [[300 for _ in range(maxcop+1)] for _ in range(maxalp+1)]\n",
    "    # print(dp)    \n",
    "    alp = maxalp if alp >= maxalp else alp\n",
    "    cop = maxcop if cop >= maxcop else cop\n",
    "    \n",
    "    return dfs(alp, cop, problems)"
   ]
  },
  {
   "cell_type": "code",
   "execution_count": null,
   "metadata": {},
   "outputs": [],
   "source": [
    "solution(10,\t10,\t[[10,15,2,1,2],[20,20,3,3,4]])\t\n",
    "#15\n",
    "print(dp)"
   ]
  },
  {
   "cell_type": "code",
   "execution_count": null,
   "metadata": {},
   "outputs": [],
   "source": [
    "solution(0,\t0,\t[[0,0,2,1,2],[4,5,3,1,2],[4,11,4,0,2],[10,4,0,4,2]])\t\n",
    "#13\n",
    "print(dp)"
   ]
  },
  {
   "cell_type": "code",
   "execution_count": 17,
   "metadata": {},
   "outputs": [],
   "source": [
    "def rotate(rc, cnt):\n",
    "    ii = (row+col -2)*2\n",
    "    N = cnt%ii\n",
    "    if N < ii - N:\n",
    "    # 정방향\n",
    "        for _ in range(N):\n",
    "            temp = rc[0][0]\n",
    "            for i in range(0,row-1):\n",
    "                rc[i][0] = rc[i+1][0]\n",
    "\n",
    "            for i in range(0, col-1):\n",
    "                rc[row-1][i] = rc[row-1][i+1]\n",
    "\n",
    "            for i in range(row-1,0,-1):\n",
    "                rc[i][col-1] = rc[i-1][col-1]\n",
    "\n",
    "            for i in range(col-1,0,-1):\n",
    "                rc[0][i] = rc[0][i-1]\n",
    "            rc[0][1] = temp\n",
    "    else:\n",
    "        # 역방향\n",
    "        for _ in range(ii-N):\n",
    "            temp = rc[0][0]\n",
    "            for i in range(0,col-1):\n",
    "                rc[0][i] = rc[0][i+1]\n",
    "\n",
    "            for i in range(0,row-1):\n",
    "                rc[i][col-1] = rc[i+1][col-1]\n",
    "            ######################################\n",
    "            for i in range(col-1,0,-1):\n",
    "                rc[row-1][i] = rc[row-1][i-1]\n",
    "\n",
    "            for i in range(row-1,0,-1):\n",
    "                rc[i][0] = rc[i-1][0]\n",
    "            rc[1][0] = temp\n",
    "\n",
    "    return rc\n",
    "\n",
    "def shift(rc, cnt):\n",
    "    N = cnt % row\n",
    "    # 정방향\n",
    "    if N < row - N:\n",
    "        for _ in range(N):\n",
    "            sh_temp = rc[-1]\n",
    "            for i in range(row-1,0,-1):\n",
    "                rc[i] = rc[i-1]\n",
    "            rc[0] = sh_temp\n",
    "    # 역방향\n",
    "    else:\n",
    "        for _ in range(row - N):\n",
    "            sh_temp = rc[0]\n",
    "            for i in range(row-1):\n",
    "                rc[i] = rc[i+1]\n",
    "            rc[-1] = sh_temp\n",
    "\n",
    "    return rc\n",
    "\n",
    "def op_cal(operations):\n",
    "    cnt = 0\n",
    "    test_list = []\n",
    "    compare_pa = operations[0]\n",
    "    for op in operations:\n",
    "        if compare_pa != op:\n",
    "            test_list.append((cnt, compare_pa))\n",
    "            compare_pa = op\n",
    "            cnt = 1\n",
    "        else:\n",
    "            cnt +=1\n",
    "    test_list.append((cnt, compare_pa))    \n",
    "\n",
    "    return test_list\n",
    "\n",
    "def solution(rc, operations):\n",
    "    global row, col\n",
    "    row, col = len(rc), len(rc[0])\n",
    "\n",
    "    operations = op_cal(operations)\n",
    "\n",
    "    for cnt, op in operations:\n",
    "        if op == \"Rotate\":\n",
    "            rc = rotate(rc,cnt)\n",
    "        else:\n",
    "            rc = shift(rc,cnt)\n",
    "\n",
    "    return rc"
   ]
  },
  {
   "cell_type": "code",
   "execution_count": 18,
   "metadata": {},
   "outputs": [
    {
     "data": {
      "text/plain": [
       "[[8, 9, 6], [4, 1, 2], [7, 5, 3]]"
      ]
     },
     "execution_count": 18,
     "metadata": {},
     "output_type": "execute_result"
    }
   ],
   "source": [
    "\n",
    "solution([[1, 2, 3], [4, 5, 6], [7, 8, 9]],\t[\"Rotate\", \"ShiftRow\"]\t)\n",
    "# [[8, 9, 6], [4, 1, 2], [7, 5, 3]]\n",
    "\n"
   ]
  },
  {
   "cell_type": "code",
   "execution_count": 19,
   "metadata": {},
   "outputs": [
    {
     "data": {
      "text/plain": [
       "[[8, 3, 3], [4, 9, 7], [3, 8, 6]]"
      ]
     },
     "execution_count": 19,
     "metadata": {},
     "output_type": "execute_result"
    }
   ],
   "source": [
    "solution([[8, 6, 3], [3, 3, 7], [8, 4, 9]],\t[\"Rotate\", \"ShiftRow\", \"ShiftRow\"]\t)\n",
    "# [[8, 3, 3], [4, 9, 7], [3, 8, 6]]\n"
   ]
  },
  {
   "cell_type": "code",
   "execution_count": 20,
   "metadata": {},
   "outputs": [
    {
     "data": {
      "text/plain": [
       "[[1, 6, 7, 8], [5, 9, 10, 4], [2, 3, 12, 11]]"
      ]
     },
     "execution_count": 20,
     "metadata": {},
     "output_type": "execute_result"
    }
   ],
   "source": [
    "solution([[1, 2, 3, 4], [5, 6, 7, 8], [9, 10, 11, 12]],\t[\"ShiftRow\", \"Rotate\", \"ShiftRow\", \"Rotate\"]\t)\n",
    "# [[1, 6, 7 ,8], [5, 9, 10, 4], [2, 3, 12, 11]]"
   ]
  },
  {
   "cell_type": "code",
   "execution_count": 21,
   "metadata": {},
   "outputs": [
    {
     "data": {
      "text/plain": [
       "[[1, 2], [3, 4]]"
      ]
     },
     "execution_count": 21,
     "metadata": {},
     "output_type": "execute_result"
    }
   ],
   "source": [
    "solution([[1, 2], [ 3, 4]],\t[\"ShiftRow\", \"Rotate\", \"ShiftRow\", \"Rotate\"]\t)"
   ]
  },
  {
   "cell_type": "code",
   "execution_count": 4,
   "metadata": {},
   "outputs": [],
   "source": [
    "\n",
    "from collections import deque\n",
    "\n",
    "def solution(rectangle, characterX, characterY, itemX, itemY):\n",
    "    answer = 0\n",
    "    map = [[0] * 101 for i in range(101)]\n",
    "\n",
    "    cX, cY = 2 * characterX, 2 * characterY\n",
    "    iX ,iY = 2 * itemX, 2 * itemY\n",
    "\n",
    "    direction = [[1, 0], [0, 1], [-1, 0], [0, -1]]\n",
    "    visited = [[0] * 101 for i in range(101)]\n",
    "    visited[cX][cY] = 1\n",
    "\n",
    "    dq = deque([(cX, cY)])\n",
    "    \n",
    "    for x1, y1, x2, y2 in rectangle:\n",
    "        for i in range(x1*2, (x2*2)+1):\n",
    "            for j in range(y1*2, (y2*2)+1):\n",
    "                map[i][j] = 1\n",
    "    \n",
    "    for x1, y1, x2, y2 in rectangle:\n",
    "        for i in range((x1*2)+1, x2*2):\n",
    "            for j in range((y1*2)+1, y2*2):\n",
    "                map[i][j] = 0\n",
    "\n",
    "    while dq:\n",
    "        x,y = dq.popleft()\n",
    "        if (x,y) == (iX, iY):\n",
    "            answer = (map[x][y] -1) //2\n",
    "            break\n",
    "\n",
    "        for x_dir, y_dir in direction:\n",
    "            next_x, next_y = x + x_dir, y + y_dir\n",
    "            if (0 <= next_x < 101) and (0 <= next_y <= 101) and (map[next_x][next_y] != 0) and (visited[next_x][next_y] == 0):\n",
    "                    map[next_x][next_y] = map[x][y] + 1\n",
    "                    visited[next_x][next_y] = 1\n",
    "                    dq.append((next_x, next_y))\n",
    "\n",
    "    return answer\n"
   ]
  },
  {
   "cell_type": "code",
   "execution_count": 5,
   "metadata": {},
   "outputs": [
    {
     "data": {
      "text/plain": [
       "17"
      ]
     },
     "execution_count": 5,
     "metadata": {},
     "output_type": "execute_result"
    }
   ],
   "source": [
    "solution([[1,1,7,4],[3,2,5,5],[4,3,6,9],[2,6,8,8]]\t,1,\t3\t,7\t,8)\n",
    "# 17"
   ]
  },
  {
   "cell_type": "code",
   "execution_count": 6,
   "metadata": {},
   "outputs": [
    {
     "data": {
      "text/plain": [
       "11"
      ]
     },
     "execution_count": 6,
     "metadata": {},
     "output_type": "execute_result"
    }
   ],
   "source": [
    "solution([[1,1,8,4],[2,2,4,9],[3,6,9,8],[6,3,7,7]]\t,9\t,7,\t6,\t1)\n",
    "#\t11"
   ]
  },
  {
   "cell_type": "code",
   "execution_count": 7,
   "metadata": {},
   "outputs": [
    {
     "data": {
      "text/plain": [
       "9"
      ]
     },
     "execution_count": 7,
     "metadata": {},
     "output_type": "execute_result"
    }
   ],
   "source": [
    "solution([[1,1,5,7]]\t,1,\t1,\t4\t,7\t)\n",
    "9"
   ]
  },
  {
   "cell_type": "code",
   "execution_count": 8,
   "metadata": {},
   "outputs": [
    {
     "data": {
      "text/plain": [
       "15"
      ]
     },
     "execution_count": 8,
     "metadata": {},
     "output_type": "execute_result"
    }
   ],
   "source": [
    "solution([[2,1,7,5],[6,4,10,10]]\t,3,\t1\t,7\t,10)\t\n",
    "15"
   ]
  },
  {
   "cell_type": "code",
   "execution_count": 9,
   "metadata": {},
   "outputs": [
    {
     "data": {
      "text/plain": [
       "10"
      ]
     },
     "execution_count": 9,
     "metadata": {},
     "output_type": "execute_result"
    }
   ],
   "source": [
    "solution([[2,2,5,5],[1,3,6,4],[3,1,4,6]],\t1,\t4,\t6,\t3)\t\n",
    "#10"
   ]
  },
  {
   "cell_type": "code",
   "execution_count": 7,
   "metadata": {},
   "outputs": [],
   "source": [
    "def dfs(sheep, wolf, info, edges):\n",
    "    if sheep > wolf: answer.append(sheep)\n",
    "    else: return\n",
    "\n",
    "    for i in range(len(edges)):\n",
    "        pa, ch = edges[i][0], edges[i][1]\n",
    "        is_wolf = info[ch]\n",
    "        if visited[pa] and not visited[ch]:\n",
    "            visited[ch] = 1\n",
    "            dfs(sheep + (is_wolf==0), wolf + (is_wolf==1), info, edges)\n",
    "            visited[ch] = 0\n",
    "\n",
    "def solution(info, edges):\n",
    "    global answer, visited\n",
    "    answer = []\n",
    "    visited = [0] * len(info)\n",
    "    visited[0] = 1\n",
    "\n",
    "    dfs(1,0, info, edges)\n",
    "\n",
    "    return max(answer)"
   ]
  },
  {
   "cell_type": "code",
   "execution_count": 8,
   "metadata": {},
   "outputs": [
    {
     "data": {
      "text/plain": [
       "5"
      ]
     },
     "execution_count": 8,
     "metadata": {},
     "output_type": "execute_result"
    }
   ],
   "source": [
    "solution([0,0,1,1,1,0,1,0,1,0,1,1],\t[[0,1],[1,2],[1,4],[0,8],[8,7],[9,10],[9,11],[4,3],[6,5],[4,6],[8,9]])\n",
    "#\t5\n"
   ]
  },
  {
   "cell_type": "code",
   "execution_count": 9,
   "metadata": {},
   "outputs": [
    {
     "data": {
      "text/plain": [
       "5"
      ]
     },
     "execution_count": 9,
     "metadata": {},
     "output_type": "execute_result"
    }
   ],
   "source": [
    "solution([0,1,0,1,1,0,1,0,0,1,0]\t,[[0,1],[0,2],[1,3],[1,4],[2,5],[2,6],[3,7],[4,8],[6,9],[9,10]])\t\n",
    "#5"
   ]
  },
  {
   "cell_type": "code",
   "execution_count": 83,
   "metadata": {},
   "outputs": [],
   "source": [
    "from tracemalloc import start\n",
    "\n",
    "\n",
    "def solution(gems):\n",
    "    answer = []\n",
    "    \n",
    "    shortest = len(gems)+1\n",
    "    gem_type = len(set(gems))\n",
    "    gem_list = {}\n",
    "    \n",
    "    start_p, end_p = 0, 0\n",
    "    \n",
    "    while end_p < len(gems):\n",
    "        if gems[end_p] not in gem_list:\n",
    "            gem_list[gems[end_p]] = 1\n",
    "        else:\n",
    "            gem_list[gems[end_p]] += 1\n",
    "        end_p += 1\n",
    "        # print(gem_type, len(gem_list), gem_list, \"start_pointer\", start_p, \"end_pointer\", end_p)\n",
    "\n",
    "        if len(gem_list) == gem_type:\n",
    "            while start_p < end_p:\n",
    "                print(\"pointer => \",start_p, end_p)\n",
    "                # print(gem_list)\n",
    "                print(shortest)\n",
    "                if gem_list[gems[start_p]] > 1:\n",
    "                    gem_list[gems[start_p]] -= 1\n",
    "                    start_p += 1\n",
    "                elif shortest > end_p - start_p:\n",
    "                    shortest = end_p - start_p\n",
    "                    answer = [start_p+1, end_p+1]\n",
    "                    break\n",
    "                else:\n",
    "                    break\n",
    "        # end_p += 1                \n",
    "\n",
    "    return answer"
   ]
  },
  {
   "cell_type": "code",
   "execution_count": 84,
   "metadata": {},
   "outputs": [
    {
     "name": "stdout",
     "output_type": "stream",
     "text": [
      "pointer =>  0 7\n",
      "9\n",
      "pointer =>  1 7\n",
      "9\n",
      "pointer =>  2 7\n",
      "9\n",
      "pointer =>  2 8\n",
      "5\n"
     ]
    },
    {
     "data": {
      "text/plain": [
       "[3, 8]"
      ]
     },
     "execution_count": 84,
     "metadata": {},
     "output_type": "execute_result"
    }
   ],
   "source": [
    "solution([\"DIA\", \"RUBY\", \"RUBY\", \"DIA\", \"DIA\", \"EMERALD\", \"SAPPHIRE\", \"DIA\"]\t)\n",
    "#[3, 7]"
   ]
  },
  {
   "cell_type": "code",
   "execution_count": 80,
   "metadata": {},
   "outputs": [
    {
     "name": "stdout",
     "output_type": "stream",
     "text": [
      "6\n",
      "3\n",
      "3\n",
      "3\n"
     ]
    },
    {
     "data": {
      "text/plain": [
       "[1, 4]"
      ]
     },
     "execution_count": 80,
     "metadata": {},
     "output_type": "execute_result"
    }
   ],
   "source": [
    "solution([\"AA\", \"AB\", \"AC\", \"AA\", \"AC\"]\t)\n",
    "#[1, 3]"
   ]
  },
  {
   "cell_type": "code",
   "execution_count": 81,
   "metadata": {},
   "outputs": [
    {
     "name": "stdout",
     "output_type": "stream",
     "text": [
      "4\n",
      "1\n",
      "1\n",
      "1\n",
      "1\n"
     ]
    },
    {
     "data": {
      "text/plain": [
       "[1, 2]"
      ]
     },
     "execution_count": 81,
     "metadata": {},
     "output_type": "execute_result"
    }
   ],
   "source": [
    "\n",
    "solution([\"XYZ\", \"XYZ\", \"XYZ\"]\t)\n",
    "#[1, 1]"
   ]
  },
  {
   "cell_type": "code",
   "execution_count": 82,
   "metadata": {},
   "outputs": [
    {
     "name": "stdout",
     "output_type": "stream",
     "text": [
      "6\n"
     ]
    },
    {
     "data": {
      "text/plain": [
       "[1, 6]"
      ]
     },
     "execution_count": 82,
     "metadata": {},
     "output_type": "execute_result"
    }
   ],
   "source": [
    "\n",
    "solution([\"ZZZ\", \"YYY\", \"NNNN\", \"YYY\", \"BBB\"])\n",
    "#[1,5]"
   ]
  },
  {
   "cell_type": "markdown",
   "metadata": {},
   "source": [
    "# 불량 사용자"
   ]
  },
  {
   "cell_type": "code",
   "execution_count": 26,
   "metadata": {},
   "outputs": [],
   "source": [
    "from itertools import permutations\n",
    "\n",
    "def check_banned(user, banned):\n",
    "    if len(user) != len(banned):\n",
    "        return False\n",
    "    else:\n",
    "        for i in range(len(banned)):\n",
    "            if banned[i] == '*':\n",
    "                continue\n",
    "            elif banned[i] != user[i]:\n",
    "                return False\n",
    "\n",
    "        return True\n",
    "\n",
    "def solution(user_id, banned_id):\n",
    "    answer = []\n",
    "    banned_user_num = len(banned_id)\n",
    "\n",
    "    for user_list in permutations(user_id, banned_user_num):\n",
    "        cnt = 0\n",
    "        for u_id,b_id in zip(user_list, banned_id):\n",
    "            cnt += check_banned(u_id, b_id)\n",
    "        if cnt == banned_user_num:\n",
    "            if set(user_list) not in answer:\n",
    "                answer.append(set(user_list))\n",
    "\n",
    "    return len(answer)"
   ]
  },
  {
   "cell_type": "code",
   "execution_count": 27,
   "metadata": {},
   "outputs": [
    {
     "data": {
      "text/plain": [
       "2"
      ]
     },
     "execution_count": 27,
     "metadata": {},
     "output_type": "execute_result"
    }
   ],
   "source": [
    "solution([\"frodo\", \"fradi\", \"crodo\", \"abc123\", \"frodoc\"],\t[\"fr*d*\", \"abc1**\"])\n",
    "#\t2"
   ]
  },
  {
   "cell_type": "code",
   "execution_count": 28,
   "metadata": {},
   "outputs": [
    {
     "data": {
      "text/plain": [
       "2"
      ]
     },
     "execution_count": 28,
     "metadata": {},
     "output_type": "execute_result"
    }
   ],
   "source": [
    "solution([\"frodo\", \"fradi\", \"crodo\", \"abc123\", \"frodoc\"],\t[\"*rodo\", \"*rodo\", \"******\"]\t)\n",
    "#2\n"
   ]
  },
  {
   "cell_type": "code",
   "execution_count": 29,
   "metadata": {},
   "outputs": [
    {
     "data": {
      "text/plain": [
       "3"
      ]
     },
     "execution_count": 29,
     "metadata": {},
     "output_type": "execute_result"
    }
   ],
   "source": [
    "\n",
    "solution([\"frodo\", \"fradi\", \"crodo\", \"abc123\", \"frodoc\"],\t[\"fr*d*\", \"*rodo\", \"******\", \"******\"]\t)\n",
    "#3"
   ]
  },
  {
   "cell_type": "markdown",
   "metadata": {},
   "source": [
    "# 경주로 건설"
   ]
  },
  {
   "cell_type": "code",
   "execution_count": 101,
   "metadata": {},
   "outputs": [],
   "source": [
    "from cmath import inf\n",
    "from collections import deque\n",
    "def solution(board):\n",
    "    N = len(board)\n",
    "    Limit_ = inf\n",
    "    answer = Limit_\n",
    "    d_dir = [0, 1, 2, 3] # right, down, left, up\n",
    "    d_y = [0, 1, 0, -1]\n",
    "    d_x = [1, 0 ,-1, 0]\n",
    "    map = [[[Limit_ for _ in range(N)] for _ in range(N)] for _ in range(4)]\n",
    "    dq = deque()\n",
    "    dq.append([0, 0, 0, 0])\n",
    "    dq.append([0, 0, 0, 1])\n",
    "    while dq:\n",
    "        y, x, cost, direction = dq.popleft() \n",
    "        for i in range(4):\n",
    "            ny = y + d_y[i]\n",
    "            nx = x + d_x[i]\n",
    "            if 0 <= nx < N and 0 <= ny < N and board[ny][nx] == 0:\n",
    "                n_cost = cost + 1\n",
    "                if direction != d_dir[i]:\n",
    "                    n_cost += 5\n",
    "                if map[d_dir[i]][ny][nx] > n_cost:\n",
    "                    map[d_dir[i]][ny][nx] = n_cost\n",
    "                    if nx == N-1 and ny == N-1:\n",
    "                        continue\n",
    "                    dq.append([ny, nx, n_cost, d_dir[i]])\n",
    "    for i in range(4):\n",
    "        answer = min(answer, map[i][N-1][N-1])\n",
    "    print(map, sep = '\\n')\n",
    "    \n",
    "\n",
    "    return (answer * 100)"
   ]
  },
  {
   "cell_type": "code",
   "execution_count": 102,
   "metadata": {},
   "outputs": [
    {
     "name": "stdout",
     "output_type": "stream",
     "text": [
      "[[[inf, 1, 2], [inf, 7, 8], [inf, 8, 9]], [[inf, inf, inf], [1, 7, 8], [2, 8, 9]], [[7, 8, inf], [13, 14, inf], [14, inf, inf]], [[7, 13, 14], [8, 14, inf], [inf, inf, inf]]]\n"
     ]
    },
    {
     "data": {
      "text/plain": [
       "900"
      ]
     },
     "execution_count": 102,
     "metadata": {},
     "output_type": "execute_result"
    }
   ],
   "source": [
    "solution([[0,0,0],[0,0,0],[0,0,0]])\n",
    "#900\n"
   ]
  },
  {
   "cell_type": "code",
   "execution_count": 103,
   "metadata": {},
   "outputs": [
    {
     "name": "stdout",
     "output_type": "stream",
     "text": [
      "[[[inf, 1, 2, 3, 4, 5, 6, inf], [inf, 7, 8, 9, 10, 11, 12, 13], [inf, 8, 9, 10, 11, inf, inf, 19], [inf, 9, 10, 11, inf, inf, 26, 20], [inf, 10, 11, inf, inf, 28, 27, inf], [inf, 11, inf, inf, 40, 34, inf, inf], [inf, inf, inf, 42, 41, inf, inf, 49], [inf, inf, 44, 43, 42, 36, 37, 38]], [[inf, inf, inf, inf, inf, inf, inf, inf], [1, 7, 8, 9, 10, 11, 12, inf], [2, 8, 9, 10, 11, inf, 13, 19], [3, 9, 10, 11, inf, inf, 14, 20], [4, 10, 11, inf, inf, 26, 15, inf], [5, 11, inf, inf, 28, 27, inf, inf], [6, inf, inf, 40, 29, inf, inf, 61], [inf, inf, 42, 41, 30, inf, 49, 55]], [[7, 8, 9, 10, 11, 12, inf, inf], [13, 14, 15, 16, 17, 18, 19, inf], [14, 15, 16, 17, inf, inf, 25, inf], [15, 16, 17, inf, inf, 20, 26, inf], [16, 17, inf, inf, 22, 21, inf, inf], [17, inf, inf, 34, 33, inf, inf, inf], [inf, inf, 36, 35, inf, inf, 55, inf], [inf, 38, 37, 36, 42, 43, inf, inf]], [[7, 13, 14, 15, 16, 17, 18, inf], [8, 14, 15, 16, 17, inf, 19, 25], [9, 15, 16, 17, inf, inf, 20, 26], [10, 16, 17, inf, inf, 27, 21, inf], [11, 17, inf, inf, 34, 33, inf, inf], [12, inf, inf, 41, 35, inf, inf, 55], [inf, inf, 43, 42, 36, inf, 43, inf], [inf, inf, inf, inf, inf, inf, inf, inf]]]\n"
     ]
    },
    {
     "data": {
      "text/plain": [
       "3800"
      ]
     },
     "execution_count": 103,
     "metadata": {},
     "output_type": "execute_result"
    }
   ],
   "source": [
    "\n",
    "solution([[0,0,0,0,0,0,0,1],[0,0,0,0,0,0,0,0],[0,0,0,0,0,1,0,0],[0,0,0,0,1,0,0,0],[0,0,0,1,0,0,0,1],[0,0,1,0,0,0,1,0],[0,1,0,0,0,1,0,0],[1,0,0,0,0,0,0,0]]\t)\n",
    "#3800\n"
   ]
  },
  {
   "cell_type": "code",
   "execution_count": null,
   "metadata": {},
   "outputs": [],
   "source": []
  },
  {
   "cell_type": "markdown",
   "metadata": {},
   "source": [
    "# 광고 삽입"
   ]
  },
  {
   "cell_type": "code",
   "execution_count": 162,
   "metadata": {},
   "outputs": [],
   "source": [
    "def str_to_int(str_time):\n",
    "    h, m, s = str_time.split(\":\")\n",
    "    int_time = int(s) + 60*int(m) + 3600*int(h)\n",
    "    return int_time\n",
    "\n",
    "def int_to_str(int_time):\n",
    "    h = int_time // 3600\n",
    "    h = \"0\" + str(h) if h < 10 else str(h)\n",
    "    int_time = int(int_time) % 3600\n",
    "\n",
    "    m = int_time // 60\n",
    "    m = \"0\" + str(m) if m < 10 else str(m)\n",
    "    int_time = int(int_time) % 60\n",
    "\n",
    "    s = int_time\n",
    "    s = \"0\" + str(s) if s < 10 else str(s)\n",
    "    str_time = h + \":\" + m+ \":\" + s\n",
    "\n",
    "    return str_time\n",
    "\n",
    "\n",
    "def solution(play_time, adv_time, logs):\n",
    "    answer = ''\n",
    "    play_time, adv_time = str_to_int(play_time), str_to_int(adv_time)\n",
    "    if adv_time >= play_time:\n",
    "        return int_to_str(0)\n",
    "\n",
    "    time_table = [0 for _ in range(play_time+1)]\n",
    "\n",
    "    for log in logs:\n",
    "        start, end = log.split(\"-\")\n",
    "        start, end = str_to_int(start), str_to_int(end)\n",
    "        time_table[start] += 1\n",
    "        time_table[end] -= 1\n",
    "\n",
    "    for i in range(1, len(time_table)):\n",
    "        time_table[i] = time_table[i] + time_table[i-1]\n",
    "\n",
    "    for i in range(1, len(time_table)):\n",
    "        time_table[i] = time_table[i] + time_table[i-1]\n",
    "\n",
    "    max_view = 0\n",
    "    max_time = 0\n",
    "\n",
    "    for i in range(adv_time, play_time):\n",
    "        if max_view < time_table[i] - time_table[i-adv_time]:\n",
    "            max_view = time_table[i] - time_table[i-adv_time]\n",
    "            max_time = i - adv_time +1\n",
    "        # print(max_view, max_time)\n",
    "\n",
    "    return int_to_str(max_time)"
   ]
  },
  {
   "cell_type": "code",
   "execution_count": 163,
   "metadata": {},
   "outputs": [
    {
     "data": {
      "text/plain": [
       "'01:30:59'"
      ]
     },
     "execution_count": 163,
     "metadata": {},
     "output_type": "execute_result"
    }
   ],
   "source": [
    "solution(\"02:03:55\"\t,\"00:14:15\",\t[\"01:20:15-01:45:14\", \"00:40:31-01:00:00\", \"00:25:50-00:48:29\", \"01:30:59-01:53:29\", \"01:37:44-02:02:30\"])\t\n",
    "#\"01:30:59\"\n"
   ]
  },
  {
   "cell_type": "code",
   "execution_count": 164,
   "metadata": {},
   "outputs": [
    {
     "data": {
      "text/plain": [
       "'01:00:00'"
      ]
     },
     "execution_count": 164,
     "metadata": {},
     "output_type": "execute_result"
    }
   ],
   "source": [
    "solution(\"99:59:59\"\t,\"25:00:00\"\t,[\"69:59:59-89:59:59\", \"01:00:00-21:00:00\", \"79:59:59-99:59:59\", \"11:00:00-31:00:00\"])\t\n",
    "#\"01:00:00\"\n"
   ]
  },
  {
   "cell_type": "code",
   "execution_count": 165,
   "metadata": {},
   "outputs": [
    {
     "data": {
      "text/plain": [
       "'00:00:00'"
      ]
     },
     "execution_count": 165,
     "metadata": {},
     "output_type": "execute_result"
    }
   ],
   "source": [
    "solution(\"50:00:00\",\t\"50:00:00\",\t[\"15:36:51-38:21:49\", \"10:14:18-15:36:51\", \"38:21:49-42:51:45\"])\n",
    "#\t\"00:00:00\""
   ]
  },
  {
   "cell_type": "code",
   "execution_count": null,
   "metadata": {},
   "outputs": [],
   "source": []
  },
  {
   "cell_type": "code",
   "execution_count": 14,
   "metadata": {},
   "outputs": [],
   "source": [
    "# 숫자 블록\n",
    "from math import sqrt\n",
    "\n",
    "def solution(begin, end):\n",
    "    answer = []\n",
    "\n",
    "    for i in range(begin, end+1):\n",
    "        if i == 1:\n",
    "            answer.append(0)\n",
    "        else:\n",
    "            chk = 1\n",
    "            sq_i = int(sqrt(i))\n",
    "            for j in range(2,sq_i+1):\n",
    "                div, r = divmod(i,j)\n",
    "                if div > 10000000:\n",
    "                    continue\n",
    "                if (r == 0):\n",
    "                    answer.append(div)\n",
    "                    chk = 0\n",
    "                    break\n",
    "\n",
    "            if chk:\n",
    "                answer.append(1)\n",
    "                chk = 1\n",
    "            \n",
    "    \n",
    "    return answer"
   ]
  },
  {
   "cell_type": "code",
   "execution_count": 15,
   "metadata": {},
   "outputs": [
    {
     "data": {
      "text/plain": [
       "[0, 1, 1, 2, 1, 3, 1, 4, 3, 5]"
      ]
     },
     "execution_count": 15,
     "metadata": {},
     "output_type": "execute_result"
    }
   ],
   "source": [
    "solution(1,10)"
   ]
  },
  {
   "cell_type": "code",
   "execution_count": 58,
   "metadata": {},
   "outputs": [],
   "source": [
    "def solution(board, skill):\n",
    "    answer = 0\n",
    "    map = [[0] * (len(board[0])+1) for _ in range(len(board)+1)]\n",
    "\n",
    "    for type, y1, x1, y2, x2, degree in skill:\n",
    "        map[y1][x1] += degree if type == 2 else -degree\n",
    "        map[y1][x2 +1] += -degree if type == 2 else degree\n",
    "        map[y2 +1][x1] += -degree if type == 2 else degree\n",
    "        map[y2 +1][x2 +1] += degree if type == 2 else -degree\n",
    "    print(\"map = \")\n",
    "    print(map)\n",
    "    for i in range(len(map)-1):\n",
    "        for j in range(len(map[0])-1):\n",
    "            map[i][j+1] += map[i][j]\n",
    "\n",
    "    for j in range(len(map[0])-1):\n",
    "        for i in range(len(map)-1):\n",
    "            map[i+1][j] += map[i][j]\n",
    "    print(\"------------------\")\n",
    "    print(map)\n",
    "    for a in range(len(board)):\n",
    "        for b in range(len(board[0])):\n",
    "            board[a][b] += map[a][b]\n",
    "            if board[a][b] > 0: answer += 1 \n",
    "    print(\"------------------\")\n",
    "    print(board)\n",
    "    return answer"
   ]
  },
  {
   "cell_type": "code",
   "execution_count": 59,
   "metadata": {},
   "outputs": [
    {
     "name": "stdout",
     "output_type": "stream",
     "text": [
      "map = \n",
      "[[-4, -1, 0, 0, -1, -4], [2, 0, 2, 0, 0, 0], [-2, 0, 0, 0, -2, 0], [-2, 0, 0, 0, -2, 0], [-2, -1, 2, 0, -1, -4]]\n",
      "------------------\n",
      "[[-4, -5, -5, -5, -6, -10], [-2, -3, -1, -1, -2, 4], [-4, -5, -3, -3, -6, -4], [-6, -7, -5, -5, -10, -4], [-8, -8, -3, -5, -11, -4]]\n",
      "------------------\n",
      "[[1, 0, 0, 0, -1], [3, 2, 4, 4, 3], [1, 0, 2, 2, -1], [-1, -2, 0, 0, -5]]\n"
     ]
    },
    {
     "data": {
      "text/plain": [
       "9"
      ]
     },
     "execution_count": 59,
     "metadata": {},
     "output_type": "execute_result"
    }
   ],
   "source": [
    "solution([[5,5,5,5,5],[5,5,5,5,5],[5,5,5,5,5],[5,5,5,5,5]],\t[[1,0,0,3,4,4],[1,2,0,2,3,2],[2,1,0,3,1,2],[1,0,1,3,3,1]]\t)\n",
    "#10\n"
   ]
  },
  {
   "cell_type": "code",
   "execution_count": 57,
   "metadata": {},
   "outputs": [
    {
     "name": "stdout",
     "output_type": "stream",
     "text": [
      "map = \n",
      "[[-2, 0, -2, 0], [0, -4, 0, -4], [98, 100, -2, 0], [100, 96, 0, -4]]\n",
      "------------------\n",
      "[[-2, -2, -4, -4], [-2, -6, -8, -8], [96, 192, 188, 196], [196, 288, 188, -4]]\n",
      "------------------\n",
      "[[-1, 0, -1], [2, -1, -2], [103, 200, 197]]\n"
     ]
    },
    {
     "data": {
      "text/plain": [
       "4"
      ]
     },
     "execution_count": 57,
     "metadata": {},
     "output_type": "execute_result"
    }
   ],
   "source": [
    "\n",
    "solution([[1,2,3],[4,5,6],[7,8,9]],\t[[1,1,1,2,2,4],[1,0,0,1,1,2],[2,2,0,2,0,100]])\n",
    "#\t6"
   ]
  },
  {
   "cell_type": "code",
   "execution_count": null,
   "metadata": {},
   "outputs": [],
   "source": []
  }
 ],
 "metadata": {
  "kernelspec": {
   "display_name": "Python 3.9.13 64-bit",
   "language": "python",
   "name": "python3"
  },
  "language_info": {
   "codemirror_mode": {
    "name": "ipython",
    "version": 3
   },
   "file_extension": ".py",
   "mimetype": "text/x-python",
   "name": "python",
   "nbconvert_exporter": "python",
   "pygments_lexer": "ipython3",
   "version": "3.9.13"
  },
  "orig_nbformat": 4,
  "vscode": {
   "interpreter": {
    "hash": "52634da84371cba311ea128a5ea7cdc41ff074b781779e754b270ff9f8153cee"
   }
  }
 },
 "nbformat": 4,
 "nbformat_minor": 2
}
