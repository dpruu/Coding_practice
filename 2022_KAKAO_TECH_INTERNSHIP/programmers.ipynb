{
 "cells": [
  {
   "cell_type": "markdown",
   "metadata": {},
   "source": [
    "# 등산코스 정하기"
   ]
  },
  {
   "cell_type": "code",
   "execution_count": 38,
   "metadata": {},
   "outputs": [],
   "source": [
    "def solution(n, paths, gates, summits):\n",
    "\n",
    "    hiking_trail = {}\n",
    "    \n",
    "    for i, j, time in paths:\n",
    "        for start , end in ((i,j), (j,i)):\n",
    "            try:\n",
    "                hiking_trail[start].append((end,time))\n",
    "            except:\n",
    "                hiking_trail[start] = [(end,time)]\n",
    "    \n",
    "    intensity = [10000001] * (n+1)\n",
    "    \n",
    "    for gate in gates:\n",
    "        intensity[gate] = 0\n",
    "\n",
    "    peak = set(summits)        \n",
    "\n",
    "    while gates:\n",
    "        trail = set()\n",
    "        # now = gates.pop()\n",
    "        for now in gates:            \n",
    "            for nx, time in hiking_trail[now]:\n",
    "                max_time = max(time, intensity[now])\n",
    "                \n",
    "                if intensity[nx] > max_time:\n",
    "                    intensity[nx] = max_time\n",
    "                    \n",
    "                    if nx not in peak:\n",
    "                        trail.add(nx)    \n",
    "\n",
    "        gates = list(trail)\n",
    "    \n",
    "    return min([[peak, intensity[peak]] for peak in summits], key = lambda x : (x[1],x[0]))"
   ]
  },
  {
   "cell_type": "code",
   "execution_count": 39,
   "metadata": {},
   "outputs": [
    {
     "data": {
      "text/plain": [
       "[5, 6]"
      ]
     },
     "execution_count": 39,
     "metadata": {},
     "output_type": "execute_result"
    }
   ],
   "source": [
    "solution(6,[[1, 2, 3], [2, 3, 5], [2, 4, 2], [2, 5, 4], [3, 4, 4], [4, 5, 3], [4, 6, 1], [5, 6, 1]],\t[1, 3],\t[5])\n",
    "#[5, 3]\n",
    "solution(7,[[1, 4, 4], [1, 6, 1], [1, 7, 3], [2, 5, 2], [3, 7, 4], [5, 6, 6]],\t[1],\t[2, 3, 4]\t)\n",
    "#[3, 4]\n",
    "solution(7,[[1, 2, 5], [1, 4, 1], [2, 3, 1], [2, 6, 7], [4, 5, 1], [5, 6, 1], [6, 7, 1]]\t,[3, 7]\t,[1, 5]\t)\n",
    "#[5, 1]\n",
    "solution(5,[[1, 3, 10], [1, 4, 20], [2, 3, 4], [2, 4, 6], [3, 5, 20], [4, 5, 6]],\t[1, 2]\t,[5]\t)\n",
    "#[5, 6]"
   ]
  },
  {
   "cell_type": "code",
   "execution_count": 25,
   "metadata": {},
   "outputs": [],
   "source": [
    "def solution(n, paths, gates, summits):\n",
    "    field = {}\n",
    "    \n",
    "    for A, B, time in paths:\n",
    "        for x, y in ((A, B), (B, A)):\n",
    "            try:\n",
    "                field[x].append((y, time))\n",
    "            except:\n",
    "                field[x] = [(y, time)]\n",
    "    \n",
    "    intensity = [10000001] * (n + 1)\n",
    "    \n",
    "    for gate in gates:\n",
    "        intensity[gate] = 0\n",
    "    \n",
    "    check = set(summits)\n",
    "    stack = gates\n",
    "    \n",
    "    while stack:\n",
    "        target = set()\n",
    "        \n",
    "        while stack:\n",
    "            now = stack.pop()\n",
    "\n",
    "            for to, time in field[now]:\n",
    "                max_time = max(intensity[now], time)\n",
    "\n",
    "                if intensity[to] > max_time:\n",
    "                    intensity[to] = max_time\n",
    "                    \n",
    "                    if to not in check:\n",
    "                        target.add(to)\n",
    "\n",
    "        stack = list(target)\n",
    "        \n",
    "    return min([[summit, intensity[summit]] for summit in summits], key=lambda x: (x[1], x[0]))"
   ]
  },
  {
   "cell_type": "markdown",
   "metadata": {},
   "source": [
    "# 성격유형"
   ]
  },
  {
   "cell_type": "code",
   "execution_count": null,
   "metadata": {},
   "outputs": [],
   "source": [
    "def solution(survey, choices):\n",
    "    answer = ''\n",
    "\n",
    "    personality_test = {\"R\":0, \"T\":0, \"C\":0, \"F\":0, \"J\":0, \"M\":0, \"A\":0, \"N\":0}\n",
    "    \n",
    "    for i, choice in enumerate(choices):\n",
    "        if choice > 4:\n",
    "            personality_test[survey[i][1]] += choice - 4\n",
    "        elif choice < 4:\n",
    "            personality_test[survey[i][0]] += 4 - choice\n",
    "    \n",
    "    answer += \"T\" if personality_test[\"T\"] > personality_test[\"R\"] else \"R\"\n",
    "    answer += \"F\" if personality_test[\"F\"] > personality_test[\"C\"] else \"C\"\n",
    "    answer += \"M\" if personality_test[\"M\"] > personality_test[\"J\"] else \"J\"\n",
    "    answer += \"N\" if personality_test[\"N\"] > personality_test[\"A\"] else \"A\"\n",
    "    \n",
    "    return answer"
   ]
  },
  {
   "cell_type": "markdown",
   "metadata": {},
   "source": [
    "# 두 큐 합게 같게 만들기"
   ]
  },
  {
   "cell_type": "code",
   "execution_count": null,
   "metadata": {},
   "outputs": [],
   "source": [
    "from collections import deque as dq\n",
    "\n",
    "def solution(queue1, queue2):\n",
    "    answer = 0\n",
    "    dq1, dq2 = dq(queue1),  dq(queue2)\n",
    "    s1, s2 = sum(dq1), sum(dq2)\n",
    "    \n",
    "    target_sum , r = divmod(s1+s2, 2)\n",
    "    if r: \n",
    "        return -1\n",
    "    \n",
    "    while 1:\n",
    "        if len(dq1) == 0 or len(dq2) == 0:\n",
    "            answer = -1\n",
    "            break\n",
    "            \n",
    "        if s1 > target_sum :\n",
    "            temp = dq1.popleft()\n",
    "            s1 -= temp\n",
    "            \n",
    "        elif s1 < target_sum:\n",
    "            temp = dq2.popleft()\n",
    "            dq1.append(temp)\n",
    "            s1 += temp    \n",
    "        else:\n",
    "            break     \n",
    "            \n",
    "        answer += 1\n",
    "        \n",
    "    return answer"
   ]
  },
  {
   "cell_type": "markdown",
   "metadata": {},
   "source": [
    "# 코딩테스트 공부"
   ]
  },
  {
   "cell_type": "code",
   "execution_count": 13,
   "metadata": {},
   "outputs": [],
   "source": [
    "def bd_cal(val, axis):\n",
    "    if axis == \"alp\":\n",
    "        return min(maxalp, val)\n",
    "    else:\n",
    "        return min(maxcop, val)\n",
    "\n",
    "def dfs(alp, cop, problems):\n",
    "    if (maxalp <= alp and maxcop <= cop):\n",
    "        return 0\n",
    "    \n",
    "    if dp[alp][cop] != 300:\n",
    "        return dp[alp][cop]\n",
    "\n",
    "    dp[alp][cop] = 301\n",
    "    dp[alp][cop] = min(dp[alp][cop], 1+ dfs(bd_cal(alp+1,\"alp\"), cop, problems))\n",
    "    dp[alp][cop] = min(dp[alp][cop], 1+ dfs(alp, bd_cal(cop+1, \"cop\"), problems))\n",
    "\n",
    "    for problem in problems:\n",
    "        if problem[0] <= alp and problem[1] <= cop:\n",
    "            dp[alp][cop] = min(dp[alp][cop], problem[4] + dfs(bd_cal(alp + problem[2],\"alp\"), bd_cal(cop+problem[3],\"cop\"), problems))\n",
    "\n",
    "    return dp[alp][cop]\n",
    "\n",
    "\n",
    "def solution(alp, cop, problems):\n",
    "    global maxalp, maxcop, dp\n",
    "    maxalp, maxcop = max([i[0] for i in problems]),  max([i[1] for i in problems])\n",
    "    dp = [[300 for _ in range(maxcop+1)] for _ in range(maxalp+1)]\n",
    "    # print(dp)    \n",
    "    alp = maxalp if alp >= maxalp else alp\n",
    "    cop = maxcop if cop >= maxcop else cop\n",
    "    \n",
    "    return dfs(alp, cop, problems)"
   ]
  },
  {
   "cell_type": "code",
   "execution_count": 14,
   "metadata": {},
   "outputs": [
    {
     "name": "stdout",
     "output_type": "stream",
     "text": [
      "[[300, 300, 300, 300, 300, 300, 300, 300, 300, 300, 300, 300, 300, 300, 300, 300, 300, 300, 300, 300, 300], [300, 300, 300, 300, 300, 300, 300, 300, 300, 300, 300, 300, 300, 300, 300, 300, 300, 300, 300, 300, 300], [300, 300, 300, 300, 300, 300, 300, 300, 300, 300, 300, 300, 300, 300, 300, 300, 300, 300, 300, 300, 300], [300, 300, 300, 300, 300, 300, 300, 300, 300, 300, 300, 300, 300, 300, 300, 300, 300, 300, 300, 300, 300], [300, 300, 300, 300, 300, 300, 300, 300, 300, 300, 300, 300, 300, 300, 300, 300, 300, 300, 300, 300, 300], [300, 300, 300, 300, 300, 300, 300, 300, 300, 300, 300, 300, 300, 300, 300, 300, 300, 300, 300, 300, 300], [300, 300, 300, 300, 300, 300, 300, 300, 300, 300, 300, 300, 300, 300, 300, 300, 300, 300, 300, 300, 300], [300, 300, 300, 300, 300, 300, 300, 300, 300, 300, 300, 300, 300, 300, 300, 300, 300, 300, 300, 300, 300], [300, 300, 300, 300, 300, 300, 300, 300, 300, 300, 300, 300, 300, 300, 300, 300, 300, 300, 300, 300, 300], [300, 300, 300, 300, 300, 300, 300, 300, 300, 300, 300, 300, 300, 300, 300, 300, 300, 300, 300, 300, 300], [300, 300, 300, 300, 300, 300, 300, 300, 300, 300, 15, 14, 13, 12, 11, 10, 10, 10, 10, 10, 10], [300, 300, 300, 300, 300, 300, 300, 300, 300, 300, 15, 14, 13, 12, 11, 10, 9, 9, 9, 9, 9], [300, 300, 300, 300, 300, 300, 300, 300, 300, 300, 14, 13, 12, 11, 10, 9, 8, 8, 8, 8, 8], [300, 300, 300, 300, 300, 300, 300, 300, 300, 300, 14, 13, 12, 11, 10, 9, 8, 7, 7, 7, 7], [300, 300, 300, 300, 300, 300, 300, 300, 300, 300, 13, 12, 11, 10, 9, 8, 7, 6, 6, 6, 6], [300, 300, 300, 300, 300, 300, 300, 300, 300, 300, 13, 12, 11, 10, 9, 8, 7, 6, 5, 5, 5], [300, 300, 300, 300, 300, 300, 300, 300, 300, 300, 12, 11, 10, 9, 8, 7, 6, 5, 4, 4, 4], [300, 300, 300, 300, 300, 300, 300, 300, 300, 300, 12, 11, 10, 9, 8, 7, 6, 5, 4, 3, 3], [300, 300, 300, 300, 300, 300, 300, 300, 300, 300, 11, 10, 9, 8, 7, 6, 5, 4, 3, 2, 2], [300, 300, 300, 300, 300, 300, 300, 300, 300, 300, 11, 10, 9, 8, 7, 6, 5, 4, 3, 2, 1], [300, 300, 300, 300, 300, 300, 300, 300, 300, 300, 10, 9, 8, 7, 6, 5, 4, 3, 2, 1, 300]]\n"
     ]
    }
   ],
   "source": [
    "solution(10,\t10,\t[[10,15,2,1,2],[20,20,3,3,4]])\t\n",
    "#15\n",
    "print(dp)"
   ]
  },
  {
   "cell_type": "code",
   "execution_count": 15,
   "metadata": {},
   "outputs": [
    {
     "name": "stdout",
     "output_type": "stream",
     "text": [
      "[[13, 12, 11, 10, 10, 10, 9, 8, 8, 8, 8, 8], [13, 12, 11, 10, 9, 9, 9, 8, 7, 7, 7, 7], [12, 11, 10, 9, 8, 8, 8, 7, 6, 6, 6, 6], [12, 11, 10, 9, 8, 7, 7, 7, 6, 5, 5, 5], [11, 10, 9, 8, 7, 6, 6, 6, 5, 4, 4, 4], [11, 10, 9, 8, 7, 6, 6, 6, 5, 4, 4, 3], [10, 9, 8, 8, 7, 6, 5, 5, 5, 4, 3, 2], [10, 9, 8, 7, 6, 5, 4, 4, 4, 3, 2, 2], [9, 8, 7, 6, 6, 5, 4, 4, 4, 3, 2, 2], [9, 8, 7, 6, 5, 5, 4, 3, 3, 3, 2, 1], [8, 7, 6, 5, 4, 4, 3, 2, 2, 2, 1, 300]]\n"
     ]
    }
   ],
   "source": [
    "solution(0,\t0,\t[[0,0,2,1,2],[4,5,3,1,2],[4,11,4,0,2],[10,4,0,4,2]])\t\n",
    "#13\n",
    "print(dp)"
   ]
  },
  {
   "cell_type": "code",
   "execution_count": null,
   "metadata": {},
   "outputs": [],
   "source": []
  }
 ],
 "metadata": {
  "kernelspec": {
   "display_name": "Python 3.9.13 64-bit",
   "language": "python",
   "name": "python3"
  },
  "language_info": {
   "codemirror_mode": {
    "name": "ipython",
    "version": 3
   },
   "file_extension": ".py",
   "mimetype": "text/x-python",
   "name": "python",
   "nbconvert_exporter": "python",
   "pygments_lexer": "ipython3",
   "version": "3.9.13"
  },
  "orig_nbformat": 4,
  "vscode": {
   "interpreter": {
    "hash": "52634da84371cba311ea128a5ea7cdc41ff074b781779e754b270ff9f8153cee"
   }
  }
 },
 "nbformat": 4,
 "nbformat_minor": 2
}
