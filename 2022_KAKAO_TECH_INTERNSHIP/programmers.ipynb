{
 "cells": [
  {
   "cell_type": "markdown",
   "metadata": {},
   "source": [
    "# 등산코스 정하기"
   ]
  },
  {
   "cell_type": "code",
   "execution_count": 38,
   "metadata": {},
   "outputs": [],
   "source": [
    "def solution(n, paths, gates, summits):\n",
    "\n",
    "    hiking_trail = {}\n",
    "    \n",
    "    for i, j, time in paths:\n",
    "        for start , end in ((i,j), (j,i)):\n",
    "            try:\n",
    "                hiking_trail[start].append((end,time))\n",
    "            except:\n",
    "                hiking_trail[start] = [(end,time)]\n",
    "    \n",
    "    intensity = [10000001] * (n+1)\n",
    "    \n",
    "    for gate in gates:\n",
    "        intensity[gate] = 0\n",
    "\n",
    "    peak = set(summits)        \n",
    "\n",
    "    while gates:\n",
    "        trail = set()\n",
    "        # now = gates.pop()\n",
    "        for now in gates:            \n",
    "            for nx, time in hiking_trail[now]:\n",
    "                max_time = max(time, intensity[now])\n",
    "                \n",
    "                if intensity[nx] > max_time:\n",
    "                    intensity[nx] = max_time\n",
    "                    \n",
    "                    if nx not in peak:\n",
    "                        trail.add(nx)    \n",
    "\n",
    "        gates = list(trail)\n",
    "    \n",
    "    return min([[peak, intensity[peak]] for peak in summits], key = lambda x : (x[1],x[0]))"
   ]
  },
  {
   "cell_type": "code",
   "execution_count": 39,
   "metadata": {},
   "outputs": [
    {
     "data": {
      "text/plain": [
       "[5, 6]"
      ]
     },
     "execution_count": 39,
     "metadata": {},
     "output_type": "execute_result"
    }
   ],
   "source": [
    "solution(6,[[1, 2, 3], [2, 3, 5], [2, 4, 2], [2, 5, 4], [3, 4, 4], [4, 5, 3], [4, 6, 1], [5, 6, 1]],\t[1, 3],\t[5])\n",
    "#[5, 3]\n",
    "solution(7,[[1, 4, 4], [1, 6, 1], [1, 7, 3], [2, 5, 2], [3, 7, 4], [5, 6, 6]],\t[1],\t[2, 3, 4]\t)\n",
    "#[3, 4]\n",
    "solution(7,[[1, 2, 5], [1, 4, 1], [2, 3, 1], [2, 6, 7], [4, 5, 1], [5, 6, 1], [6, 7, 1]]\t,[3, 7]\t,[1, 5]\t)\n",
    "#[5, 1]\n",
    "solution(5,[[1, 3, 10], [1, 4, 20], [2, 3, 4], [2, 4, 6], [3, 5, 20], [4, 5, 6]],\t[1, 2]\t,[5]\t)\n",
    "#[5, 6]"
   ]
  },
  {
   "cell_type": "code",
   "execution_count": 25,
   "metadata": {},
   "outputs": [],
   "source": [
    "def solution(n, paths, gates, summits):\n",
    "    field = {}\n",
    "    \n",
    "    for A, B, time in paths:\n",
    "        for x, y in ((A, B), (B, A)):\n",
    "            try:\n",
    "                field[x].append((y, time))\n",
    "            except:\n",
    "                field[x] = [(y, time)]\n",
    "    \n",
    "    intensity = [10000001] * (n + 1)\n",
    "    \n",
    "    for gate in gates:\n",
    "        intensity[gate] = 0\n",
    "    \n",
    "    check = set(summits)\n",
    "    stack = gates\n",
    "    \n",
    "    while stack:\n",
    "        target = set()\n",
    "        \n",
    "        while stack:\n",
    "            now = stack.pop()\n",
    "\n",
    "            for to, time in field[now]:\n",
    "                max_time = max(intensity[now], time)\n",
    "\n",
    "                if intensity[to] > max_time:\n",
    "                    intensity[to] = max_time\n",
    "                    \n",
    "                    if to not in check:\n",
    "                        target.add(to)\n",
    "\n",
    "        stack = list(target)\n",
    "        \n",
    "    return min([[summit, intensity[summit]] for summit in summits], key=lambda x: (x[1], x[0]))"
   ]
  },
  {
   "cell_type": "markdown",
   "metadata": {},
   "source": [
    "# 성격유형"
   ]
  },
  {
   "cell_type": "code",
   "execution_count": null,
   "metadata": {},
   "outputs": [],
   "source": [
    "def solution(survey, choices):\n",
    "    answer = ''\n",
    "\n",
    "    personality_test = {\"R\":0, \"T\":0, \"C\":0, \"F\":0, \"J\":0, \"M\":0, \"A\":0, \"N\":0}\n",
    "    \n",
    "    for i, choice in enumerate(choices):\n",
    "        if choice > 4:\n",
    "            personality_test[survey[i][1]] += choice - 4\n",
    "        elif choice < 4:\n",
    "            personality_test[survey[i][0]] += 4 - choice\n",
    "    \n",
    "    answer += \"T\" if personality_test[\"T\"] > personality_test[\"R\"] else \"R\"\n",
    "    answer += \"F\" if personality_test[\"F\"] > personality_test[\"C\"] else \"C\"\n",
    "    answer += \"M\" if personality_test[\"M\"] > personality_test[\"J\"] else \"J\"\n",
    "    answer += \"N\" if personality_test[\"N\"] > personality_test[\"A\"] else \"A\"\n",
    "    \n",
    "    return answer"
   ]
  },
  {
   "cell_type": "markdown",
   "metadata": {},
   "source": [
    "# 두 큐 합게 같게 만들기"
   ]
  },
  {
   "cell_type": "code",
   "execution_count": null,
   "metadata": {},
   "outputs": [],
   "source": [
    "from collections import deque as dq\n",
    "\n",
    "def solution(queue1, queue2):\n",
    "    answer = 0\n",
    "    dq1, dq2 = dq(queue1),  dq(queue2)\n",
    "    s1, s2 = sum(dq1), sum(dq2)\n",
    "    \n",
    "    target_sum , r = divmod(s1+s2, 2)\n",
    "    if r: \n",
    "        return -1\n",
    "    \n",
    "    while 1:\n",
    "        if len(dq1) == 0 or len(dq2) == 0:\n",
    "            answer = -1\n",
    "            break\n",
    "            \n",
    "        if s1 > target_sum :\n",
    "            temp = dq1.popleft()\n",
    "            s1 -= temp\n",
    "            \n",
    "        elif s1 < target_sum:\n",
    "            temp = dq2.popleft()\n",
    "            dq1.append(temp)\n",
    "            s1 += temp    \n",
    "        else:\n",
    "            break     \n",
    "            \n",
    "        answer += 1\n",
    "        \n",
    "    return answer"
   ]
  },
  {
   "cell_type": "markdown",
   "metadata": {},
   "source": [
    "# 코딩테스트 공부"
   ]
  },
  {
   "cell_type": "code",
   "execution_count": 13,
   "metadata": {},
   "outputs": [],
   "source": [
    "def bd_cal(val, axis):\n",
    "    if axis == \"alp\":\n",
    "        return min(maxalp, val)\n",
    "    else:\n",
    "        return min(maxcop, val)\n",
    "\n",
    "def dfs(alp, cop, problems):\n",
    "    if (maxalp <= alp and maxcop <= cop):\n",
    "        return 0\n",
    "    \n",
    "    if dp[alp][cop] != 300:\n",
    "        return dp[alp][cop]\n",
    "\n",
    "    dp[alp][cop] = 301\n",
    "    dp[alp][cop] = min(dp[alp][cop], 1+ dfs(bd_cal(alp+1,\"alp\"), cop, problems))\n",
    "    dp[alp][cop] = min(dp[alp][cop], 1+ dfs(alp, bd_cal(cop+1, \"cop\"), problems))\n",
    "\n",
    "    for problem in problems:\n",
    "        if problem[0] <= alp and problem[1] <= cop:\n",
    "            dp[alp][cop] = min(dp[alp][cop], problem[4] + dfs(bd_cal(alp + problem[2],\"alp\"), bd_cal(cop+problem[3],\"cop\"), problems))\n",
    "\n",
    "    return dp[alp][cop]\n",
    "\n",
    "\n",
    "def solution(alp, cop, problems):\n",
    "    global maxalp, maxcop, dp\n",
    "    maxalp, maxcop = max([i[0] for i in problems]),  max([i[1] for i in problems])\n",
    "    dp = [[300 for _ in range(maxcop+1)] for _ in range(maxalp+1)]\n",
    "    # print(dp)    \n",
    "    alp = maxalp if alp >= maxalp else alp\n",
    "    cop = maxcop if cop >= maxcop else cop\n",
    "    \n",
    "    return dfs(alp, cop, problems)"
   ]
  },
  {
   "cell_type": "code",
   "execution_count": null,
   "metadata": {},
   "outputs": [],
   "source": [
    "solution(10,\t10,\t[[10,15,2,1,2],[20,20,3,3,4]])\t\n",
    "#15\n",
    "print(dp)"
   ]
  },
  {
   "cell_type": "code",
   "execution_count": null,
   "metadata": {},
   "outputs": [],
   "source": [
    "solution(0,\t0,\t[[0,0,2,1,2],[4,5,3,1,2],[4,11,4,0,2],[10,4,0,4,2]])\t\n",
    "#13\n",
    "print(dp)"
   ]
  },
  {
   "cell_type": "code",
   "execution_count": 17,
   "metadata": {},
   "outputs": [],
   "source": [
    "def rotate(rc, cnt):\n",
    "    ii = (row+col -2)*2\n",
    "    N = cnt%ii\n",
    "    if N < ii - N:\n",
    "    # 정방향\n",
    "        for _ in range(N):\n",
    "            temp = rc[0][0]\n",
    "            for i in range(0,row-1):\n",
    "                rc[i][0] = rc[i+1][0]\n",
    "\n",
    "            for i in range(0, col-1):\n",
    "                rc[row-1][i] = rc[row-1][i+1]\n",
    "\n",
    "            for i in range(row-1,0,-1):\n",
    "                rc[i][col-1] = rc[i-1][col-1]\n",
    "\n",
    "            for i in range(col-1,0,-1):\n",
    "                rc[0][i] = rc[0][i-1]\n",
    "            rc[0][1] = temp\n",
    "    else:\n",
    "        # 역방향\n",
    "        for _ in range(ii-N):\n",
    "            temp = rc[0][0]\n",
    "            for i in range(0,col-1):\n",
    "                rc[0][i] = rc[0][i+1]\n",
    "\n",
    "            for i in range(0,row-1):\n",
    "                rc[i][col-1] = rc[i+1][col-1]\n",
    "            ######################################\n",
    "            for i in range(col-1,0,-1):\n",
    "                rc[row-1][i] = rc[row-1][i-1]\n",
    "\n",
    "            for i in range(row-1,0,-1):\n",
    "                rc[i][0] = rc[i-1][0]\n",
    "            rc[1][0] = temp\n",
    "\n",
    "    return rc\n",
    "\n",
    "def shift(rc, cnt):\n",
    "    N = cnt % row\n",
    "    # 정방향\n",
    "    if N < row - N:\n",
    "        for _ in range(N):\n",
    "            sh_temp = rc[-1]\n",
    "            for i in range(row-1,0,-1):\n",
    "                rc[i] = rc[i-1]\n",
    "            rc[0] = sh_temp\n",
    "    # 역방향\n",
    "    else:\n",
    "        for _ in range(row - N):\n",
    "            sh_temp = rc[0]\n",
    "            for i in range(row-1):\n",
    "                rc[i] = rc[i+1]\n",
    "            rc[-1] = sh_temp\n",
    "\n",
    "    return rc\n",
    "\n",
    "def op_cal(operations):\n",
    "    cnt = 0\n",
    "    test_list = []\n",
    "    compare_pa = operations[0]\n",
    "    for op in operations:\n",
    "        if compare_pa != op:\n",
    "            test_list.append((cnt, compare_pa))\n",
    "            compare_pa = op\n",
    "            cnt = 1\n",
    "        else:\n",
    "            cnt +=1\n",
    "    test_list.append((cnt, compare_pa))    \n",
    "\n",
    "    return test_list\n",
    "\n",
    "def solution(rc, operations):\n",
    "    global row, col\n",
    "    row, col = len(rc), len(rc[0])\n",
    "\n",
    "    operations = op_cal(operations)\n",
    "\n",
    "    for cnt, op in operations:\n",
    "        if op == \"Rotate\":\n",
    "            rc = rotate(rc,cnt)\n",
    "        else:\n",
    "            rc = shift(rc,cnt)\n",
    "\n",
    "    return rc"
   ]
  },
  {
   "cell_type": "code",
   "execution_count": 18,
   "metadata": {},
   "outputs": [
    {
     "data": {
      "text/plain": [
       "[[8, 9, 6], [4, 1, 2], [7, 5, 3]]"
      ]
     },
     "execution_count": 18,
     "metadata": {},
     "output_type": "execute_result"
    }
   ],
   "source": [
    "\n",
    "solution([[1, 2, 3], [4, 5, 6], [7, 8, 9]],\t[\"Rotate\", \"ShiftRow\"]\t)\n",
    "# [[8, 9, 6], [4, 1, 2], [7, 5, 3]]\n",
    "\n"
   ]
  },
  {
   "cell_type": "code",
   "execution_count": 19,
   "metadata": {},
   "outputs": [
    {
     "data": {
      "text/plain": [
       "[[8, 3, 3], [4, 9, 7], [3, 8, 6]]"
      ]
     },
     "execution_count": 19,
     "metadata": {},
     "output_type": "execute_result"
    }
   ],
   "source": [
    "solution([[8, 6, 3], [3, 3, 7], [8, 4, 9]],\t[\"Rotate\", \"ShiftRow\", \"ShiftRow\"]\t)\n",
    "# [[8, 3, 3], [4, 9, 7], [3, 8, 6]]\n"
   ]
  },
  {
   "cell_type": "code",
   "execution_count": 20,
   "metadata": {},
   "outputs": [
    {
     "data": {
      "text/plain": [
       "[[1, 6, 7, 8], [5, 9, 10, 4], [2, 3, 12, 11]]"
      ]
     },
     "execution_count": 20,
     "metadata": {},
     "output_type": "execute_result"
    }
   ],
   "source": [
    "solution([[1, 2, 3, 4], [5, 6, 7, 8], [9, 10, 11, 12]],\t[\"ShiftRow\", \"Rotate\", \"ShiftRow\", \"Rotate\"]\t)\n",
    "# [[1, 6, 7 ,8], [5, 9, 10, 4], [2, 3, 12, 11]]"
   ]
  },
  {
   "cell_type": "code",
   "execution_count": 21,
   "metadata": {},
   "outputs": [
    {
     "data": {
      "text/plain": [
       "[[1, 2], [3, 4]]"
      ]
     },
     "execution_count": 21,
     "metadata": {},
     "output_type": "execute_result"
    }
   ],
   "source": [
    "solution([[1, 2], [ 3, 4]],\t[\"ShiftRow\", \"Rotate\", \"ShiftRow\", \"Rotate\"]\t)"
   ]
  },
  {
   "cell_type": "code",
   "execution_count": 4,
   "metadata": {},
   "outputs": [],
   "source": [
    "\n",
    "from collections import deque\n",
    "\n",
    "def solution(rectangle, characterX, characterY, itemX, itemY):\n",
    "    answer = 0\n",
    "    map = [[0] * 101 for i in range(101)]\n",
    "\n",
    "    cX, cY = 2 * characterX, 2 * characterY\n",
    "    iX ,iY = 2 * itemX, 2 * itemY\n",
    "\n",
    "    direction = [[1, 0], [0, 1], [-1, 0], [0, -1]]\n",
    "    visited = [[0] * 101 for i in range(101)]\n",
    "    visited[cX][cY] = 1\n",
    "\n",
    "    dq = deque([(cX, cY)])\n",
    "    \n",
    "    for x1, y1, x2, y2 in rectangle:\n",
    "        for i in range(x1*2, (x2*2)+1):\n",
    "            for j in range(y1*2, (y2*2)+1):\n",
    "                map[i][j] = 1\n",
    "    \n",
    "    for x1, y1, x2, y2 in rectangle:\n",
    "        for i in range((x1*2)+1, x2*2):\n",
    "            for j in range((y1*2)+1, y2*2):\n",
    "                map[i][j] = 0\n",
    "\n",
    "    while dq:\n",
    "        x,y = dq.popleft()\n",
    "        if (x,y) == (iX, iY):\n",
    "            answer = (map[x][y] -1) //2\n",
    "            break\n",
    "\n",
    "        for x_dir, y_dir in direction:\n",
    "            next_x, next_y = x + x_dir, y + y_dir\n",
    "            if (0 <= next_x < 101) and (0 <= next_y <= 101) and (map[next_x][next_y] != 0) and (visited[next_x][next_y] == 0):\n",
    "                    map[next_x][next_y] = map[x][y] + 1\n",
    "                    visited[next_x][next_y] = 1\n",
    "                    dq.append((next_x, next_y))\n",
    "\n",
    "    return answer\n"
   ]
  },
  {
   "cell_type": "code",
   "execution_count": 5,
   "metadata": {},
   "outputs": [
    {
     "data": {
      "text/plain": [
       "17"
      ]
     },
     "execution_count": 5,
     "metadata": {},
     "output_type": "execute_result"
    }
   ],
   "source": [
    "solution([[1,1,7,4],[3,2,5,5],[4,3,6,9],[2,6,8,8]]\t,1,\t3\t,7\t,8)\n",
    "# 17"
   ]
  },
  {
   "cell_type": "code",
   "execution_count": 6,
   "metadata": {},
   "outputs": [
    {
     "data": {
      "text/plain": [
       "11"
      ]
     },
     "execution_count": 6,
     "metadata": {},
     "output_type": "execute_result"
    }
   ],
   "source": [
    "solution([[1,1,8,4],[2,2,4,9],[3,6,9,8],[6,3,7,7]]\t,9\t,7,\t6,\t1)\n",
    "#\t11"
   ]
  },
  {
   "cell_type": "code",
   "execution_count": 7,
   "metadata": {},
   "outputs": [
    {
     "data": {
      "text/plain": [
       "9"
      ]
     },
     "execution_count": 7,
     "metadata": {},
     "output_type": "execute_result"
    }
   ],
   "source": [
    "solution([[1,1,5,7]]\t,1,\t1,\t4\t,7\t)\n",
    "9"
   ]
  },
  {
   "cell_type": "code",
   "execution_count": 8,
   "metadata": {},
   "outputs": [
    {
     "data": {
      "text/plain": [
       "15"
      ]
     },
     "execution_count": 8,
     "metadata": {},
     "output_type": "execute_result"
    }
   ],
   "source": [
    "solution([[2,1,7,5],[6,4,10,10]]\t,3,\t1\t,7\t,10)\t\n",
    "15"
   ]
  },
  {
   "cell_type": "code",
   "execution_count": 9,
   "metadata": {},
   "outputs": [
    {
     "data": {
      "text/plain": [
       "10"
      ]
     },
     "execution_count": 9,
     "metadata": {},
     "output_type": "execute_result"
    }
   ],
   "source": [
    "solution([[2,2,5,5],[1,3,6,4],[3,1,4,6]],\t1,\t4,\t6,\t3)\t\n",
    "#10"
   ]
  },
  {
   "cell_type": "code",
   "execution_count": 7,
   "metadata": {},
   "outputs": [],
   "source": [
    "def dfs(sheep, wolf, info, edges):\n",
    "    if sheep > wolf: answer.append(sheep)\n",
    "    else: return\n",
    "\n",
    "    for i in range(len(edges)):\n",
    "        pa, ch = edges[i][0], edges[i][1]\n",
    "        is_wolf = info[ch]\n",
    "        if visited[pa] and not visited[ch]:\n",
    "            visited[ch] = 1\n",
    "            dfs(sheep + (is_wolf==0), wolf + (is_wolf==1), info, edges)\n",
    "            visited[ch] = 0\n",
    "\n",
    "def solution(info, edges):\n",
    "    global answer, visited\n",
    "    answer = []\n",
    "    visited = [0] * len(info)\n",
    "    visited[0] = 1\n",
    "\n",
    "    dfs(1,0, info, edges)\n",
    "\n",
    "    return max(answer)"
   ]
  },
  {
   "cell_type": "code",
   "execution_count": 8,
   "metadata": {},
   "outputs": [
    {
     "data": {
      "text/plain": [
       "5"
      ]
     },
     "execution_count": 8,
     "metadata": {},
     "output_type": "execute_result"
    }
   ],
   "source": [
    "solution([0,0,1,1,1,0,1,0,1,0,1,1],\t[[0,1],[1,2],[1,4],[0,8],[8,7],[9,10],[9,11],[4,3],[6,5],[4,6],[8,9]])\n",
    "#\t5\n"
   ]
  },
  {
   "cell_type": "code",
   "execution_count": 9,
   "metadata": {},
   "outputs": [
    {
     "data": {
      "text/plain": [
       "5"
      ]
     },
     "execution_count": 9,
     "metadata": {},
     "output_type": "execute_result"
    }
   ],
   "source": [
    "solution([0,1,0,1,1,0,1,0,0,1,0]\t,[[0,1],[0,2],[1,3],[1,4],[2,5],[2,6],[3,7],[4,8],[6,9],[9,10]])\t\n",
    "#5"
   ]
  },
  {
   "cell_type": "code",
   "execution_count": 60,
   "metadata": {},
   "outputs": [],
   "source": [
    "from tracemalloc import start\n",
    "\n",
    "\n",
    "def solution(gems):\n",
    "    answer = []\n",
    "    \n",
    "    shortest = len(gems)+1\n",
    "    gem_type = len(set(gems))\n",
    "    gem_list = {}\n",
    "    \n",
    "    start_p, end_p = 0, 0\n",
    "    \n",
    "    while end_p < len(gems):\n",
    "        if gems[end_p] not in gem_list:\n",
    "            gem_list[gems[end_p]] = 1\n",
    "        else:\n",
    "            gem_list[gems[end_p]] += 1\n",
    "        end_p += 1\n",
    "        # print(gem_type, len(gem_list), gem_list, \"start_pointer\", start_p, \"end_pointer\", end_p)\n",
    "\n",
    "        if len(gem_list) == gem_type:\n",
    "            while start_p < end_p:\n",
    "                # print(\"pointer => \",start_p, end_p)\n",
    "                # print(gem_list)\n",
    "                if gem_list[gems[start_p]] > 1:\n",
    "                    gem_list[gems[start_p]] -= 1\n",
    "                    start_p += 1\n",
    "                elif shortest > end_p - start_p:\n",
    "                    shortest = end_p - start_p\n",
    "                    answer = [start_p+1, end_p]\n",
    "                    break\n",
    "                else:\n",
    "                    break\n",
    "\n",
    "\n",
    "    return answer"
   ]
  },
  {
   "cell_type": "code",
   "execution_count": 65,
   "metadata": {},
   "outputs": [
    {
     "data": {
      "text/plain": [
       "[3, 7]"
      ]
     },
     "execution_count": 65,
     "metadata": {},
     "output_type": "execute_result"
    }
   ],
   "source": [
    "solution([\"DIA\", \"RUBY\", \"RUBY\", \"DIA\", \"DIA\", \"EMERALD\", \"SAPPHIRE\", \"DIA\"]\t)\n",
    "#[3, 7]"
   ]
  },
  {
   "cell_type": "code",
   "execution_count": 62,
   "metadata": {},
   "outputs": [
    {
     "data": {
      "text/plain": [
       "[1, 3]"
      ]
     },
     "execution_count": 62,
     "metadata": {},
     "output_type": "execute_result"
    }
   ],
   "source": [
    "solution([\"AA\", \"AB\", \"AC\", \"AA\", \"AC\"]\t)\n",
    "#[1, 3]"
   ]
  },
  {
   "cell_type": "code",
   "execution_count": 63,
   "metadata": {},
   "outputs": [
    {
     "data": {
      "text/plain": [
       "[1, 1]"
      ]
     },
     "execution_count": 63,
     "metadata": {},
     "output_type": "execute_result"
    }
   ],
   "source": [
    "\n",
    "solution([\"XYZ\", \"XYZ\", \"XYZ\"]\t)\n",
    "#[1, 1]"
   ]
  },
  {
   "cell_type": "code",
   "execution_count": 64,
   "metadata": {},
   "outputs": [
    {
     "data": {
      "text/plain": [
       "[1, 5]"
      ]
     },
     "execution_count": 64,
     "metadata": {},
     "output_type": "execute_result"
    }
   ],
   "source": [
    "\n",
    "solution([\"ZZZ\", \"YYY\", \"NNNN\", \"YYY\", \"BBB\"])\n",
    "#[1,5]"
   ]
  },
  {
   "cell_type": "code",
   "execution_count": null,
   "metadata": {},
   "outputs": [],
   "source": []
  }
 ],
 "metadata": {
  "kernelspec": {
   "display_name": "Python 3.9.13 64-bit",
   "language": "python",
   "name": "python3"
  },
  "language_info": {
   "codemirror_mode": {
    "name": "ipython",
    "version": 3
   },
   "file_extension": ".py",
   "mimetype": "text/x-python",
   "name": "python",
   "nbconvert_exporter": "python",
   "pygments_lexer": "ipython3",
   "version": "3.9.13"
  },
  "orig_nbformat": 4,
  "vscode": {
   "interpreter": {
    "hash": "52634da84371cba311ea128a5ea7cdc41ff074b781779e754b270ff9f8153cee"
   }
  }
 },
 "nbformat": 4,
 "nbformat_minor": 2
}
